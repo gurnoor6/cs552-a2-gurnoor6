{
  "cells": [
    {
      "cell_type": "markdown",
      "metadata": {
        "id": "P0Iyg6btLW9M"
      },
      "source": [
        "#  Assignment 2 - Transfer Learning and Data Augmentation 💬\n",
        "\n",
        "Welcome to the **second assignment** for the **CS-552: Modern NLP course**!\n",
        "\n",
        "> - 😀 Name: **Gurnoor Singh Khurana**\n",
        "> - ✉️ Email: **gurnoor.khurana@epfl.ch**\n",
        "> - 🪪 SCIPER: **366788**"
      ]
    },
    {
      "cell_type": "markdown",
      "metadata": {
        "id": "_XjnQhbFIJUu"
      },
      "source": [
        "<div style=\"padding:15px 20px 20px 20px;border-left:3px solid green;background-color:#e4fae4;border-radius: 20px;\">\n",
        "\n",
        "## **Assignment Description**\n",
        "- In the first part of this assignment, you will need to implement training (fine-tuning) and evaluation of a pre-trained language model ([DistilBERT](https://huggingface.co/docs/transformers/model_doc/distilbert) ), on natural language inference (NLI) task for recognizing textual entailment (RTE).\n",
        "\n",
        "- Following the first finetuning task, you will need to identify the shortcut (i.e. some salient or toxic features) that the model learnt for the specific task. \n",
        "\n",
        "- For part-3, you are supposed to annotate 100 randomly assigned test datapoints as ground-truth labels. Additionally, the cross annotation should be conducted by another one or two annotators, and you will learn about how to calculate the agreement statistics as a significant characteristic reflecting the quality of a collected dataset.\n",
        "\n",
        "- For part-4, since the human annotation is quite time- and effort-consuming, there are plenty of ways to get silver-labels from automatic labeling to augment the dataset scale. We provide the reference to some simple methods (EDA and Back Translation) but you are encouraged to explore other advanced mechanisms. You will evaluate the improvement of your model performance by using your data augmentation method.\n",
        "\n",
        "For each part, you will need to complete the code in the corresponding `.py` files (`nli.py` for Part-1, `shortcut.py` for Part-2, `eda.py` for Part-4). You will be provided with the function descriptions and detailed instructions about the code snippet you need to write.\n",
        "\n",
        "\n",
        "### Table of Contents\n",
        "- **[PART 1: Model Finetuning for NLI](#1)**\n",
        "    - [1.1 Data Processing](#11)\n",
        "    - [1.2 Model Training and Evaluation](#12)\n",
        "- **[PART 2: Identify Model Shortcut](#2)**\n",
        "    - [2.1 Word-Pair Pattern Extraction](#21)\n",
        "    - [2.2 Distill Potentially Useful Patterns](#22)\n",
        "    - [2.3 Case Study](#23)\n",
        "- **[PART 3: Annotate New Data](#3)**\n",
        "    - [3.1 Write an Annotation Guideline](#31)\n",
        "    - [3.2 Annotate Your 100 Datapoints with Partner(s)](#32)\n",
        "    - [3.3 Agreement Measure](#33)\n",
        "    - [3.4 Robustness Check](#34)\n",
        "- **[PART 4: Data Augmentation](#4)**\n",
        "    \n",
        "### Deliverables\n",
        "\n",
        "- ✅ This jupyter notebook\n",
        "- ✅ `nli.py` file\n",
        "- ✅ `shortcut.py` file\n",
        "- ✅ Finetuned DistilBERT models for NLI task (Part 1 and Part 4)\n",
        "- ✅ Annotated and cross-annotated data files (Part 3)\n",
        "- ✅ New dataset from data augmentation (Part 4)\n",
        "\n",
        "</div>"
      ]
    },
    {
      "cell_type": "markdown",
      "metadata": {
        "id": "lluaZwaS-0v9"
      },
      "source": [
        "### Google Colab Setup\n",
        "If you are using Google Colab notebook for this assignment, you will need to run a few commands to set up our environment on Google Colab. If you are running this notebook on a local machine you can skip this section.\n",
        "\n",
        "Run the following cell to mount your Google Drive. Follow the popped window, sign in to your Google account. (The same account you used to store this notebook!)"
      ]
    },
    {
      "cell_type": "code",
      "execution_count": 1,
      "metadata": {
        "colab": {
          "base_uri": "https://localhost:8080/"
        },
        "id": "VfVHqiSvK1aB",
        "outputId": "1c15abc2-a2dc-40db-c2e0-fc6cca8bd34c"
      },
      "outputs": [
        {
          "output_type": "stream",
          "name": "stdout",
          "text": [
            "Mounted at /content/drive\n"
          ]
        }
      ],
      "source": [
        "from google.colab import drive\n",
        "drive.mount('/content/drive')"
      ]
    },
    {
      "cell_type": "markdown",
      "metadata": {
        "id": "opCteyIv-_kS"
      },
      "source": [
        "Now first click the 4th left-side bar (named Files), then click the 2nd bar popped under Files column (named Refresh), under \"/drive/MyDrive/\" find the Assignment 2 folder that you uploaded to your Google Drive, copy its path and fill it in below. If everything is working correctly, then running the folowing cell should print the filenames from the assignment:\n",
        "\n",
        "```\n",
        "['Assignment2.ipynb', 'requirements.txt', 'runs', 'predictions', 'nli_data', 'testA2.py', 'nli.py', 'shortcut.py']\n",
        "```"
      ]
    },
    {
      "cell_type": "code",
      "execution_count": 2,
      "metadata": {
        "id": "agEgK0kdrUdT",
        "colab": {
          "base_uri": "https://localhost:8080/"
        },
        "outputId": "87e70d68-7901-4cf4-ae05-c0e71af084ef"
      },
      "outputs": [
        {
          "output_type": "stream",
          "name": "stdout",
          "text": [
            "['Assignment2.ipynb', 'testA2.py', '.DS_Store', 'nli_data', '__pycache__', 'predictions', 'runs', 'requirements.txt', 'eda.py', 'shortcut.py', 'nli.py', 'case_study_contradiction.jsonl', 'case_study_entailment.jsonl']\n"
          ]
        }
      ],
      "source": [
        "import os\n",
        "# TODO: Fill in the path where you download the Assignment folder into\n",
        "ROOT_PATH = \"/content/drive/MyDrive/NLP/A2\" # Replace with your directory to A2 folder\n",
        "print(os.listdir(ROOT_PATH))"
      ]
    },
    {
      "cell_type": "markdown",
      "source": [
        "Before we start, we also need to run some boilerplate code to set up our environment, same as previous assignments. You'll need to rerun this setup code each time you start the notebook."
      ],
      "metadata": {
        "id": "_5mABwvHy5-e"
      }
    },
    {
      "cell_type": "code",
      "source": [
        "requirements = ROOT_PATH + \"/requirements.txt\"\n",
        "!pip install -r {requirements}\n",
        "!pip install torch==1.13.1+cu116 torchvision==0.14.1+cu116 torchaudio==0.13.1 --extra-index-url https://download.pytorch.org/whl/cu116"
      ],
      "metadata": {
        "id": "ZhJT7Fo4_D1f",
        "colab": {
          "base_uri": "https://localhost:8080/"
        },
        "outputId": "92cbd574-0507-447f-9c3f-9ba8438a32c5"
      },
      "execution_count": 3,
      "outputs": [
        {
          "output_type": "stream",
          "name": "stdout",
          "text": [
            "Looking in indexes: https://pypi.org/simple, https://us-python.pkg.dev/colab-wheels/public/simple/\n",
            "Collecting jsonlines==3.1.0\n",
            "  Downloading jsonlines-3.1.0-py3-none-any.whl (8.6 kB)\n",
            "Collecting transformers==4.26.1\n",
            "  Downloading transformers-4.26.1-py3-none-any.whl (6.3 MB)\n",
            "\u001b[2K     \u001b[90m━━━━━━━━━━━━━━━━━━━━━━━━━━━━━━━━━━━━━━━━\u001b[0m \u001b[32m6.3/6.3 MB\u001b[0m \u001b[31m55.0 MB/s\u001b[0m eta \u001b[36m0:00:00\u001b[0m\n",
            "\u001b[?25hRequirement already satisfied: nltk==3.8.1 in /usr/local/lib/python3.9/dist-packages (from -r /content/drive/MyDrive/NLP/A2/requirements.txt (line 3)) (3.8.1)\n",
            "Collecting apex==0.9.10.dev0\n",
            "  Downloading apex-0.9.10dev.tar.gz (36 kB)\n",
            "  Preparing metadata (setup.py) ... \u001b[?25l\u001b[?25hdone\n",
            "Requirement already satisfied: scikit-learn==1.2.2 in /usr/local/lib/python3.9/dist-packages (from -r /content/drive/MyDrive/NLP/A2/requirements.txt (line 5)) (1.2.2)\n",
            "Collecting huggingface-hub==0.12.1\n",
            "  Downloading huggingface_hub-0.12.1-py3-none-any.whl (190 kB)\n",
            "\u001b[2K     \u001b[90m━━━━━━━━━━━━━━━━━━━━━━━━━━━━━━━━━━━━━━\u001b[0m \u001b[32m190.3/190.3 KB\u001b[0m \u001b[31m16.0 MB/s\u001b[0m eta \u001b[36m0:00:00\u001b[0m\n",
            "\u001b[?25hRequirement already satisfied: numpy==1.22.4 in /usr/local/lib/python3.9/dist-packages (from -r /content/drive/MyDrive/NLP/A2/requirements.txt (line 7)) (1.22.4)\n",
            "Requirement already satisfied: tqdm==4.65.0 in /usr/local/lib/python3.9/dist-packages (from -r /content/drive/MyDrive/NLP/A2/requirements.txt (line 8)) (4.65.0)\n",
            "Requirement already satisfied: scipy==1.10.1 in /usr/local/lib/python3.9/dist-packages (from -r /content/drive/MyDrive/NLP/A2/requirements.txt (line 9)) (1.10.1)\n",
            "Requirement already satisfied: urllib3==1.26.15 in /usr/local/lib/python3.9/dist-packages (from -r /content/drive/MyDrive/NLP/A2/requirements.txt (line 10)) (1.26.15)\n",
            "Requirement already satisfied: six==1.16.0 in /usr/local/lib/python3.9/dist-packages (from -r /content/drive/MyDrive/NLP/A2/requirements.txt (line 11)) (1.16.0)\n",
            "Requirement already satisfied: attrs>=19.2.0 in /usr/local/lib/python3.9/dist-packages (from jsonlines==3.1.0->-r /content/drive/MyDrive/NLP/A2/requirements.txt (line 1)) (22.2.0)\n",
            "Requirement already satisfied: requests in /usr/local/lib/python3.9/dist-packages (from transformers==4.26.1->-r /content/drive/MyDrive/NLP/A2/requirements.txt (line 2)) (2.27.1)\n",
            "Requirement already satisfied: packaging>=20.0 in /usr/local/lib/python3.9/dist-packages (from transformers==4.26.1->-r /content/drive/MyDrive/NLP/A2/requirements.txt (line 2)) (23.0)\n",
            "Requirement already satisfied: filelock in /usr/local/lib/python3.9/dist-packages (from transformers==4.26.1->-r /content/drive/MyDrive/NLP/A2/requirements.txt (line 2)) (3.10.7)\n",
            "Requirement already satisfied: pyyaml>=5.1 in /usr/local/lib/python3.9/dist-packages (from transformers==4.26.1->-r /content/drive/MyDrive/NLP/A2/requirements.txt (line 2)) (6.0)\n",
            "Collecting tokenizers!=0.11.3,<0.14,>=0.11.1\n",
            "  Downloading tokenizers-0.13.3-cp39-cp39-manylinux_2_17_x86_64.manylinux2014_x86_64.whl (7.8 MB)\n",
            "\u001b[2K     \u001b[90m━━━━━━━━━━━━━━━━━━━━━━━━━━━━━━━━━━━━━━━━\u001b[0m \u001b[32m7.8/7.8 MB\u001b[0m \u001b[31m81.8 MB/s\u001b[0m eta \u001b[36m0:00:00\u001b[0m\n",
            "\u001b[?25hRequirement already satisfied: regex!=2019.12.17 in /usr/local/lib/python3.9/dist-packages (from transformers==4.26.1->-r /content/drive/MyDrive/NLP/A2/requirements.txt (line 2)) (2022.10.31)\n",
            "Requirement already satisfied: joblib in /usr/local/lib/python3.9/dist-packages (from nltk==3.8.1->-r /content/drive/MyDrive/NLP/A2/requirements.txt (line 3)) (1.1.1)\n",
            "Requirement already satisfied: click in /usr/local/lib/python3.9/dist-packages (from nltk==3.8.1->-r /content/drive/MyDrive/NLP/A2/requirements.txt (line 3)) (8.1.3)\n",
            "Collecting cryptacular\n",
            "  Downloading cryptacular-1.6.2.tar.gz (75 kB)\n",
            "\u001b[2K     \u001b[90m━━━━━━━━━━━━━━━━━━━━━━━━━━━━━━━━━━━━━━━━\u001b[0m \u001b[32m75.8/75.8 KB\u001b[0m \u001b[31m6.1 MB/s\u001b[0m eta \u001b[36m0:00:00\u001b[0m\n",
            "\u001b[?25h  Installing build dependencies ... \u001b[?25l\u001b[?25hdone\n",
            "  Getting requirements to build wheel ... \u001b[?25l\u001b[?25hdone\n",
            "  Preparing metadata (pyproject.toml) ... \u001b[?25l\u001b[?25hdone\n",
            "Collecting zope.sqlalchemy\n",
            "  Downloading zope.sqlalchemy-2.0-py3-none-any.whl (22 kB)\n",
            "Collecting velruse>=1.0.3\n",
            "  Downloading velruse-1.1.1.tar.gz (709 kB)\n",
            "\u001b[2K     \u001b[90m━━━━━━━━━━━━━━━━━━━━━━━━━━━━━━━━━━━━━━\u001b[0m \u001b[32m709.8/709.8 KB\u001b[0m \u001b[31m58.6 MB/s\u001b[0m eta \u001b[36m0:00:00\u001b[0m\n",
            "\u001b[?25h  Preparing metadata (setup.py) ... \u001b[?25l\u001b[?25hdone\n",
            "Collecting pyramid>1.1.2\n",
            "  Downloading pyramid-2.0.1-py3-none-any.whl (246 kB)\n",
            "\u001b[2K     \u001b[90m━━━━━━━━━━━━━━━━━━━━━━━━━━━━━━━━━━━━━━\u001b[0m \u001b[32m247.0/247.0 KB\u001b[0m \u001b[31m31.6 MB/s\u001b[0m eta \u001b[36m0:00:00\u001b[0m\n",
            "\u001b[?25hCollecting pyramid_mailer\n",
            "  Downloading pyramid_mailer-0.15.1-py2.py3-none-any.whl (19 kB)\n",
            "Collecting wtforms\n",
            "  Downloading WTForms-3.0.1-py3-none-any.whl (136 kB)\n",
            "\u001b[2K     \u001b[90m━━━━━━━━━━━━━━━━━━━━━━━━━━━━━━━━━━━━━━\u001b[0m \u001b[32m136.5/136.5 KB\u001b[0m \u001b[31m21.2 MB/s\u001b[0m eta \u001b[36m0:00:00\u001b[0m\n",
            "\u001b[?25hCollecting wtforms-recaptcha\n",
            "  Downloading wtforms_recaptcha-0.3.2-py2.py3-none-any.whl (7.5 kB)\n",
            "Requirement already satisfied: threadpoolctl>=2.0.0 in /usr/local/lib/python3.9/dist-packages (from scikit-learn==1.2.2->-r /content/drive/MyDrive/NLP/A2/requirements.txt (line 5)) (3.1.0)\n",
            "Requirement already satisfied: typing-extensions>=3.7.4.3 in /usr/local/lib/python3.9/dist-packages (from huggingface-hub==0.12.1->-r /content/drive/MyDrive/NLP/A2/requirements.txt (line 6)) (4.5.0)\n",
            "Collecting plaster\n",
            "  Downloading plaster-1.1.2-py2.py3-none-any.whl (11 kB)\n",
            "Collecting webob>=1.8.3\n",
            "  Downloading WebOb-1.8.7-py2.py3-none-any.whl (114 kB)\n",
            "\u001b[2K     \u001b[90m━━━━━━━━━━━━━━━━━━━━━━━━━━━━━━━━━━━━━━\u001b[0m \u001b[32m115.0/115.0 KB\u001b[0m \u001b[31m16.8 MB/s\u001b[0m eta \u001b[36m0:00:00\u001b[0m\n",
            "\u001b[?25hRequirement already satisfied: setuptools in /usr/local/lib/python3.9/dist-packages (from pyramid>1.1.2->apex==0.9.10.dev0->-r /content/drive/MyDrive/NLP/A2/requirements.txt (line 4)) (67.6.1)\n",
            "Collecting hupper>=1.5\n",
            "  Downloading hupper-1.12-py3-none-any.whl (22 kB)\n",
            "Collecting translationstring>=0.4\n",
            "  Downloading translationstring-1.4-py2.py3-none-any.whl (15 kB)\n",
            "Collecting zope.deprecation>=3.5.0\n",
            "  Downloading zope.deprecation-5.0-py3-none-any.whl (10 kB)\n",
            "Collecting venusian>=1.0\n",
            "  Downloading venusian-3.0.0-py3-none-any.whl (13 kB)\n",
            "Collecting zope.interface>=3.8.0\n",
            "  Downloading zope.interface-6.0-cp39-cp39-manylinux_2_5_x86_64.manylinux1_x86_64.manylinux_2_17_x86_64.manylinux2014_x86_64.whl (246 kB)\n",
            "\u001b[2K     \u001b[90m━━━━━━━━━━━━━━━━━━━━━━━━━━━━━━━━━━━━━━\u001b[0m \u001b[32m246.1/246.1 KB\u001b[0m \u001b[31m29.4 MB/s\u001b[0m eta \u001b[36m0:00:00\u001b[0m\n",
            "\u001b[?25hCollecting plaster-pastedeploy\n",
            "  Downloading plaster_pastedeploy-1.0.1-py2.py3-none-any.whl (7.8 kB)\n",
            "Requirement already satisfied: requests-oauthlib in /usr/local/lib/python3.9/dist-packages (from velruse>=1.0.3->apex==0.9.10.dev0->-r /content/drive/MyDrive/NLP/A2/requirements.txt (line 4)) (1.3.1)\n",
            "Collecting anykeystore\n",
            "  Downloading anykeystore-0.2.tar.gz (10 kB)\n",
            "  Preparing metadata (setup.py) ... \u001b[?25l\u001b[?25hdone\n",
            "Collecting python3-openid\n",
            "  Downloading python3_openid-3.2.0-py3-none-any.whl (133 kB)\n",
            "\u001b[2K     \u001b[90m━━━━━━━━━━━━━━━━━━━━━━━━━━━━━━━━━━━━━━\u001b[0m \u001b[32m133.7/133.7 KB\u001b[0m \u001b[31m18.7 MB/s\u001b[0m eta \u001b[36m0:00:00\u001b[0m\n",
            "\u001b[?25hCollecting pbkdf2\n",
            "  Downloading pbkdf2-1.3.tar.gz (6.4 kB)\n",
            "  Preparing metadata (setup.py) ... \u001b[?25l\u001b[?25hdone\n",
            "Collecting repoze.sendmail>=4.1\n",
            "  Downloading repoze.sendmail-4.4.1-py2.py3-none-any.whl (41 kB)\n",
            "\u001b[2K     \u001b[90m━━━━━━━━━━━━━━━━━━━━━━━━━━━━━━━━━━━━━━━━\u001b[0m \u001b[32m41.0/41.0 KB\u001b[0m \u001b[31m4.7 MB/s\u001b[0m eta \u001b[36m0:00:00\u001b[0m\n",
            "\u001b[?25hCollecting transaction\n",
            "  Downloading transaction-3.1.0-py2.py3-none-any.whl (47 kB)\n",
            "\u001b[2K     \u001b[90m━━━━━━━━━━━━━━━━━━━━━━━━━━━━━━━━━━━━━━━━\u001b[0m \u001b[32m47.3/47.3 KB\u001b[0m \u001b[31m6.6 MB/s\u001b[0m eta \u001b[36m0:00:00\u001b[0m\n",
            "\u001b[?25hRequirement already satisfied: idna<4,>=2.5 in /usr/local/lib/python3.9/dist-packages (from requests->transformers==4.26.1->-r /content/drive/MyDrive/NLP/A2/requirements.txt (line 2)) (3.4)\n",
            "Requirement already satisfied: charset-normalizer~=2.0.0 in /usr/local/lib/python3.9/dist-packages (from requests->transformers==4.26.1->-r /content/drive/MyDrive/NLP/A2/requirements.txt (line 2)) (2.0.12)\n",
            "Requirement already satisfied: certifi>=2017.4.17 in /usr/local/lib/python3.9/dist-packages (from requests->transformers==4.26.1->-r /content/drive/MyDrive/NLP/A2/requirements.txt (line 2)) (2022.12.7)\n",
            "Requirement already satisfied: MarkupSafe in /usr/local/lib/python3.9/dist-packages (from wtforms->apex==0.9.10.dev0->-r /content/drive/MyDrive/NLP/A2/requirements.txt (line 4)) (2.1.2)\n",
            "Requirement already satisfied: SQLAlchemy!=1.4.0,!=1.4.1,!=1.4.2,!=1.4.3,!=1.4.4,!=1.4.5,!=1.4.6,<2,>=1.1 in /usr/local/lib/python3.9/dist-packages (from zope.sqlalchemy->apex==0.9.10.dev0->-r /content/drive/MyDrive/NLP/A2/requirements.txt (line 4)) (1.4.47)\n",
            "Requirement already satisfied: greenlet!=0.4.17 in /usr/local/lib/python3.9/dist-packages (from SQLAlchemy!=1.4.0,!=1.4.1,!=1.4.2,!=1.4.3,!=1.4.4,!=1.4.5,!=1.4.6,<2,>=1.1->zope.sqlalchemy->apex==0.9.10.dev0->-r /content/drive/MyDrive/NLP/A2/requirements.txt (line 4)) (2.0.2)\n",
            "Collecting PasteDeploy>=2.0\n",
            "  Downloading PasteDeploy-3.0.1-py3-none-any.whl (16 kB)\n",
            "Requirement already satisfied: defusedxml in /usr/local/lib/python3.9/dist-packages (from python3-openid->velruse>=1.0.3->apex==0.9.10.dev0->-r /content/drive/MyDrive/NLP/A2/requirements.txt (line 4)) (0.7.1)\n",
            "Requirement already satisfied: oauthlib>=3.0.0 in /usr/local/lib/python3.9/dist-packages (from requests-oauthlib->velruse>=1.0.3->apex==0.9.10.dev0->-r /content/drive/MyDrive/NLP/A2/requirements.txt (line 4)) (3.2.2)\n",
            "Building wheels for collected packages: apex, velruse, cryptacular, anykeystore, pbkdf2\n",
            "  Building wheel for apex (setup.py) ... \u001b[?25l\u001b[?25hdone\n",
            "  Created wheel for apex: filename=apex-0.9.10.dev0-py3-none-any.whl size=46463 sha256=f52f30c2701536188b02232104ad3dbe0a6f59c52200231aa21cf3489a185c8a\n",
            "  Stored in directory: /root/.cache/pip/wheels/e8/4a/00/b01a1b3a5adce2b24769c16eb15382dc6044cca56cd6b06d0d\n",
            "  Building wheel for velruse (setup.py) ... \u001b[?25l\u001b[?25hdone\n",
            "  Created wheel for velruse: filename=velruse-1.1.1-py3-none-any.whl size=50930 sha256=5fdf9fb6cc54c176e9a47d6719efd868b500735c16cc046c65aa9099e2db4b11\n",
            "  Stored in directory: /root/.cache/pip/wheels/32/6f/ae/58b88343f17c68e0d11b5ddf60c0edecb30f5df10c82b5d0b6\n",
            "  Building wheel for cryptacular (pyproject.toml) ... \u001b[?25l\u001b[?25hdone\n",
            "  Created wheel for cryptacular: filename=cryptacular-1.6.2-cp39-cp39-linux_x86_64.whl size=57883 sha256=8f7d22b710f01384107c0be760effd97429648218d9d4544ffaebb3f404cb172\n",
            "  Stored in directory: /root/.cache/pip/wheels/22/fb/44/920f35039c8e9ae372bb7e05f01fe01d352faf2723cea29fb1\n",
            "  Building wheel for anykeystore (setup.py) ... \u001b[?25l\u001b[?25hdone\n",
            "  Created wheel for anykeystore: filename=anykeystore-0.2-py3-none-any.whl size=16832 sha256=ab2d7d0d8afcbfbd14d9b50a72eb3e00d56afde8c262e0f16b75fde34c9ca12c\n",
            "  Stored in directory: /root/.cache/pip/wheels/6e/70/45/2a8f0d9c194e281bca441960ed6f30ddd01d8ed61b443f00b0\n",
            "  Building wheel for pbkdf2 (setup.py) ... \u001b[?25l\u001b[?25hdone\n",
            "  Created wheel for pbkdf2: filename=pbkdf2-1.3-py3-none-any.whl size=5101 sha256=d5f7cd3991ac06e94932760723edd13daad777922fc27132d3c2762f210a2cc8\n",
            "  Stored in directory: /root/.cache/pip/wheels/25/d2/61/653b7e13d58b8a1ea237868585640fcd626f24a1fdfe3f74d0\n",
            "Successfully built apex velruse cryptacular anykeystore pbkdf2\n",
            "Installing collected packages: translationstring, tokenizers, pbkdf2, anykeystore, zope.interface, zope.deprecation, wtforms, webob, venusian, python3-openid, plaster, PasteDeploy, jsonlines, hupper, cryptacular, wtforms-recaptcha, transaction, plaster-pastedeploy, huggingface-hub, zope.sqlalchemy, transformers, repoze.sendmail, pyramid, velruse, pyramid_mailer, apex\n",
            "Successfully installed PasteDeploy-3.0.1 anykeystore-0.2 apex-0.9.10.dev0 cryptacular-1.6.2 huggingface-hub-0.12.1 hupper-1.12 jsonlines-3.1.0 pbkdf2-1.3 plaster-1.1.2 plaster-pastedeploy-1.0.1 pyramid-2.0.1 pyramid_mailer-0.15.1 python3-openid-3.2.0 repoze.sendmail-4.4.1 tokenizers-0.13.3 transaction-3.1.0 transformers-4.26.1 translationstring-1.4 velruse-1.1.1 venusian-3.0.0 webob-1.8.7 wtforms-3.0.1 wtforms-recaptcha-0.3.2 zope.deprecation-5.0 zope.interface-6.0 zope.sqlalchemy-2.0\n",
            "Looking in indexes: https://pypi.org/simple, https://us-python.pkg.dev/colab-wheels/public/simple/, https://download.pytorch.org/whl/cu116\n",
            "Collecting torch==1.13.1+cu116\n",
            "  Downloading https://download.pytorch.org/whl/cu116/torch-1.13.1%2Bcu116-cp39-cp39-linux_x86_64.whl (1977.9 MB)\n",
            "\u001b[2K     \u001b[90m━━━━━━━━━━━━━━━━━━━━━━━━━━━━━━━━━━━━━━━━\u001b[0m \u001b[32m2.0/2.0 GB\u001b[0m \u001b[31m830.5 kB/s\u001b[0m eta \u001b[36m0:00:00\u001b[0m\n",
            "\u001b[?25hCollecting torchvision==0.14.1+cu116\n",
            "  Downloading https://download.pytorch.org/whl/cu116/torchvision-0.14.1%2Bcu116-cp39-cp39-linux_x86_64.whl (24.2 MB)\n",
            "\u001b[2K     \u001b[90m━━━━━━━━━━━━━━━━━━━━━━━━━━━━━━━━━━━━━━━━\u001b[0m \u001b[32m24.2/24.2 MB\u001b[0m \u001b[31m58.8 MB/s\u001b[0m eta \u001b[36m0:00:00\u001b[0m\n",
            "\u001b[?25hCollecting torchaudio==0.13.1\n",
            "  Downloading https://download.pytorch.org/whl/cu116/torchaudio-0.13.1%2Bcu116-cp39-cp39-linux_x86_64.whl (4.2 MB)\n",
            "\u001b[2K     \u001b[90m━━━━━━━━━━━━━━━━━━━━━━━━━━━━━━━━━━━━━━━━\u001b[0m \u001b[32m4.2/4.2 MB\u001b[0m \u001b[31m63.8 MB/s\u001b[0m eta \u001b[36m0:00:00\u001b[0m\n",
            "\u001b[?25hRequirement already satisfied: typing-extensions in /usr/local/lib/python3.9/dist-packages (from torch==1.13.1+cu116) (4.5.0)\n",
            "Requirement already satisfied: pillow!=8.3.*,>=5.3.0 in /usr/local/lib/python3.9/dist-packages (from torchvision==0.14.1+cu116) (8.4.0)\n",
            "Requirement already satisfied: requests in /usr/local/lib/python3.9/dist-packages (from torchvision==0.14.1+cu116) (2.27.1)\n",
            "Requirement already satisfied: numpy in /usr/local/lib/python3.9/dist-packages (from torchvision==0.14.1+cu116) (1.22.4)\n",
            "Requirement already satisfied: urllib3<1.27,>=1.21.1 in /usr/local/lib/python3.9/dist-packages (from requests->torchvision==0.14.1+cu116) (1.26.15)\n",
            "Requirement already satisfied: certifi>=2017.4.17 in /usr/local/lib/python3.9/dist-packages (from requests->torchvision==0.14.1+cu116) (2022.12.7)\n",
            "Requirement already satisfied: idna<4,>=2.5 in /usr/local/lib/python3.9/dist-packages (from requests->torchvision==0.14.1+cu116) (3.4)\n",
            "Requirement already satisfied: charset-normalizer~=2.0.0 in /usr/local/lib/python3.9/dist-packages (from requests->torchvision==0.14.1+cu116) (2.0.12)\n",
            "Installing collected packages: torch, torchvision, torchaudio\n",
            "  Attempting uninstall: torch\n",
            "    Found existing installation: torch 2.0.0+cu118\n",
            "    Uninstalling torch-2.0.0+cu118:\n",
            "      Successfully uninstalled torch-2.0.0+cu118\n",
            "  Attempting uninstall: torchvision\n",
            "    Found existing installation: torchvision 0.15.1+cu118\n",
            "    Uninstalling torchvision-0.15.1+cu118:\n",
            "      Successfully uninstalled torchvision-0.15.1+cu118\n",
            "  Attempting uninstall: torchaudio\n",
            "    Found existing installation: torchaudio 2.0.1+cu118\n",
            "    Uninstalling torchaudio-2.0.1+cu118:\n",
            "      Successfully uninstalled torchaudio-2.0.1+cu118\n",
            "\u001b[31mERROR: pip's dependency resolver does not currently take into account all the packages that are installed. This behaviour is the source of the following dependency conflicts.\n",
            "torchtext 0.15.1 requires torch==2.0.0, but you have torch 1.13.1+cu116 which is incompatible.\n",
            "torchdata 0.6.0 requires torch==2.0.0, but you have torch 1.13.1+cu116 which is incompatible.\u001b[0m\u001b[31m\n",
            "\u001b[0mSuccessfully installed torch-1.13.1+cu116 torchaudio-0.13.1+cu116 torchvision-0.14.1+cu116\n"
          ]
        }
      ]
    },
    {
      "cell_type": "markdown",
      "source": [
        "\n",
        "Run this cell to load the autoreload extension. This allows us to edit .py source files, and re-import them into the notebook for a seamless editing and debugging experience."
      ],
      "metadata": {
        "id": "RUw9ycDa21dl"
      }
    },
    {
      "cell_type": "code",
      "source": [
        "%load_ext autoreload\n",
        "%autoreload 2"
      ],
      "metadata": {
        "id": "3PVAoLPQ_I7c"
      },
      "execution_count": 4,
      "outputs": []
    },
    {
      "cell_type": "code",
      "source": [
        "from copy import deepcopy\n",
        "import numpy as np \n",
        "from tqdm import tqdm\n",
        "import jsonlines\n",
        "import sys\n",
        "import time\n",
        "import random\n",
        "\n",
        "import torch\n",
        "import torch.utils.data\n",
        "from torch import nn, optim\n",
        "from torch.utils.data import Dataset, DataLoader, RandomSampler, SequentialSampler\n",
        "from transformers import AdamW, get_constant_schedule_with_warmup\n",
        "from transformers import DistilBertTokenizer, DistilBertForSequenceClassification"
      ],
      "metadata": {
        "id": "mA1Qk-_K_LRm"
      },
      "execution_count": 5,
      "outputs": []
    },
    {
      "cell_type": "markdown",
      "metadata": {
        "id": "csa48DhDr0td"
      },
      "source": [
        "Once you have successfully mounted your Google Drive and located the path to this assignment, run the following cell to allow us to import from the `.py` files of this assignment. If it works correctly, it should print the message:\n",
        "\n",
        "```\n",
        "Hello A2!\n",
        "```"
      ]
    },
    {
      "cell_type": "code",
      "execution_count": 6,
      "metadata": {
        "id": "U10S-b9BrNxj",
        "colab": {
          "base_uri": "https://localhost:8080/"
        },
        "outputId": "4e47fb90-4cf9-4e0d-e346-06fe54b45925"
      },
      "outputs": [
        {
          "output_type": "stream",
          "name": "stdout",
          "text": [
            "Hello A2!\n"
          ]
        },
        {
          "output_type": "stream",
          "name": "stderr",
          "text": [
            "[nltk_data] Downloading package stopwords to /root/nltk_data...\n",
            "[nltk_data]   Unzipping corpora/stopwords.zip.\n"
          ]
        }
      ],
      "source": [
        "sys.path.append(ROOT_PATH)\n",
        "\n",
        "from testA2 import hello_A2\n",
        "hello_A2()"
      ]
    },
    {
      "cell_type": "markdown",
      "metadata": {
        "id": "dnWpzntscWUE"
      },
      "source": [
        "Note that if CUDA is not enabled, `torch.cuda.is_available()` will return False and this notebook will fallback to CPU mode.\n",
        "\n",
        "The global variables `dtype` and `device` will control the data types throughout this assignment.\n",
        "\n",
        "We will be using `torch.float = torch.float32` for all operations.\n",
        "\n",
        "Please refer to https://pytorch.org/docs/stable/tensor_attributes.html#torch-dtype for more details about data types."
      ]
    },
    {
      "cell_type": "code",
      "execution_count": 7,
      "metadata": {
        "id": "Rqb9cwkNIEHr",
        "colab": {
          "base_uri": "https://localhost:8080/"
        },
        "outputId": "9f64c781-e9a9-4951-cc5b-78dbfb19c63c"
      },
      "outputs": [
        {
          "output_type": "stream",
          "name": "stdout",
          "text": [
            "Good to go!\n"
          ]
        }
      ],
      "source": [
        "if torch.cuda.is_available():\n",
        "  print('Good to go!')\n",
        "else:\n",
        "  print('Please set GPU via Edit -> Notebook Settings.')"
      ]
    },
    {
      "cell_type": "markdown",
      "metadata": {
        "id": "9MSpYuMcyHfl"
      },
      "source": [
        "### Local Setup\n",
        "If you skip Google Colab setup, you still need to fill in the path where you download the Assignment folder, and install required packages."
      ]
    },
    {
      "cell_type": "code",
      "execution_count": 37,
      "metadata": {
        "id": "QQHs7vHhydij"
      },
      "outputs": [],
      "source": [
        "ROOT_PATH = \"...\" # Replace with your directory to A2 folder"
      ]
    },
    {
      "cell_type": "code",
      "source": [
        "requirements = ROOT_PATH + \"/requirements.txt\"\n",
        "!pip install -r {requirements}"
      ],
      "metadata": {
        "id": "IKeGSDpAyigE",
        "colab": {
          "base_uri": "https://localhost:8080/"
        },
        "outputId": "c86e999e-6ea0-45fb-8c00-609137c192a6"
      },
      "execution_count": 38,
      "outputs": [
        {
          "output_type": "stream",
          "name": "stdout",
          "text": [
            "\u001b[31mERROR: Could not open requirements file: [Errno 2] No such file or directory: '.../requirements.txt'\u001b[0m\u001b[31m\n",
            "\u001b[0m"
          ]
        }
      ]
    },
    {
      "cell_type": "code",
      "source": [
        "%load_ext autoreload\n",
        "%autoreload 2"
      ],
      "metadata": {
        "id": "C6b-Enimyywz",
        "colab": {
          "base_uri": "https://localhost:8080/"
        },
        "outputId": "84fc77a3-404b-40a0-cb4e-313b631199f9"
      },
      "execution_count": 39,
      "outputs": [
        {
          "output_type": "stream",
          "name": "stdout",
          "text": [
            "The autoreload extension is already loaded. To reload it, use:\n",
            "  %reload_ext autoreload\n"
          ]
        }
      ]
    },
    {
      "cell_type": "code",
      "source": [
        "from copy import deepcopy\n",
        "import numpy as np \n",
        "from tqdm import tqdm\n",
        "import jsonlines\n",
        "import sys\n",
        "import time, os\n",
        "import random\n",
        "\n",
        "import torch\n",
        "import torch.utils.data\n",
        "from torch import nn, optim\n",
        "from torch.utils.data import Dataset, DataLoader, RandomSampler, SequentialSampler\n",
        "from transformers import AdamW, get_constant_schedule_with_warmup\n",
        "from transformers import DistilBertTokenizer, DistilBertForSequenceClassification"
      ],
      "metadata": {
        "id": "Q6dgLZ9kyqpO"
      },
      "execution_count": 40,
      "outputs": []
    },
    {
      "cell_type": "markdown",
      "metadata": {
        "id": "rHhgkhaH-IUl"
      },
      "source": [
        "<a name=\"1\"></a>\n",
        "## **PART 1: Finetuning DistilBERT for NLI**\n",
        "---"
      ]
    },
    {
      "cell_type": "markdown",
      "metadata": {
        "id": "tD2YPuqeIYBN"
      },
      "source": [
        "### **What is the NLI task?🧐**\n",
        "> Given a pair of sentences, denoted as a \"premise\" sentence and a \"hypothesis\" sentence, NLI (or RTE) aims to determine their logical relationship, i.e. whether they are logically follow (entailment), unfollow (contradiction) or are undetermined (neutral) to each other.\n",
        "\n",
        "> Defined as a machine learning task, NLI can be considered as a 3-classes (entailment, contradiction, or neutral) classification task, with a sentence-pair input (\"hypothesis\" and “premise”).\n",
        "\n",
        "> **You can run the following cell to have the first glance at your data**. Each data sample is a python dictionary, which consists of following components:\n",
        "- premise sentence (*'premise'*), \n",
        "- hypothesis sentence (*'hypothesis'*) \n",
        "- domain (*'domain'*): describing the topic of premise and hypothesis sentences (e.g., government regulations, telephone talks, etc.)\n",
        "- label (*'label'*): indicating the logical relation between premise and hypothesis (i.e., entailment, contradiction, or neutral)."
      ]
    },
    {
      "cell_type": "code",
      "execution_count": 8,
      "metadata": {
        "id": "p-ODgcNUqYtm",
        "colab": {
          "base_uri": "https://localhost:8080/"
        },
        "outputId": "4ede9dbf-14f2-4eba-8aed-7238e633799e"
      },
      "outputs": [
        {
          "output_type": "stream",
          "name": "stdout",
          "text": [
            "{'premise': 'The new rights are nice enough', 'hypothesis': 'Everyone really likes the newest benefits ', 'domain': 'slate', 'label': 'neutral'}\n",
            "{'premise': 'This site includes a list of all award winners and a searchable database of Government Executive articles.', 'hypothesis': 'The Government Executive articles housed on the website are not able to be searched.', 'domain': 'government', 'label': 'contradiction'}\n",
            "{'premise': \"uh i don't know i i have mixed emotions about him uh sometimes i like him but at the same times i love to see somebody beat him\", 'hypothesis': 'I like him for the most part, but would still enjoy seeing someone beat him.', 'domain': 'telephone', 'label': 'entailment'}\n"
          ]
        }
      ],
      "source": [
        "# If you use Google Colab, then data_dir = 'GOOGLE_DRIVE_PATH/nli_data'\n",
        "data_dir = ROOT_PATH+'/nli_data'\n",
        "data_dev_path = os.path.join(data_dir, 'dev_in_domain.jsonl')\n",
        "with jsonlines.open(data_dev_path, \"r\") as reader:\n",
        "    for sid, sample in enumerate(reader.iter()):\n",
        "        print(sample)\n",
        "        if sid == 2:\n",
        "            break"
      ]
    },
    {
      "cell_type": "code",
      "execution_count": 9,
      "metadata": {
        "id": "FF-dRWc7MZlL"
      },
      "outputs": [],
      "source": [
        "# Enter enter your Sciper number\n",
        "SCIPER = '366788'\n",
        "seed = int(SCIPER)\n",
        "torch.backends.cudnn.deterministic = True"
      ]
    },
    {
      "cell_type": "code",
      "execution_count": 10,
      "metadata": {
        "id": "9UPdzLSi4ZVt",
        "colab": {
          "base_uri": "https://localhost:8080/"
        },
        "outputId": "6c1aeec0-ea64-40c7-d1d5-5970231304af"
      },
      "outputs": [
        {
          "output_type": "stream",
          "name": "stdout",
          "text": [
            "Your random seed is:  366788\n"
          ]
        }
      ],
      "source": [
        "print('Your random seed is: ', seed)"
      ]
    },
    {
      "cell_type": "code",
      "execution_count": 11,
      "metadata": {
        "id": "GnX8VC4C0sHW",
        "colab": {
          "base_uri": "https://localhost:8080/",
          "height": 252,
          "referenced_widgets": [
            "7076da328b8c489d9e19e9eb0c4f6761",
            "a9ed8f8bc9ee4a0e8520e1fdbe795194",
            "6d0b15e95b1f4a17a28df7f9830998fe",
            "341838c5de294781af89f2c1fb31780d",
            "1f30d45be52640009826b6a0f67b2ca2",
            "8e11a44a6b484fb0bec5df8075317708",
            "291bc9153265426e94e3554d80e61e2b",
            "a093eed63e8341abb660eeb80574ca94",
            "a5493afd5a7043f18e1af59fd8e1aeec",
            "cf04061afe5d4c458c000ed633d46878",
            "229dba4c0ed042ccabf17a802abde4bc",
            "e65afac03de64bdcbb27c4e15060dc36",
            "ac033b7fd84943ac8b90b3eb39bd8460",
            "19c6e6cae56d4439bf3afd922354fd8c",
            "c2fea0f33e244e1a8b135e77020e6ede",
            "a44a35cf440043c68e61995a633ce093",
            "0e12a32df00d4345973b4569314c7979",
            "2b3b799095b64b82b78eb7e611a31381",
            "e9ca051c8e094582a1968bc18e857e6b",
            "f29766192dc040d4b7033020475c2041",
            "ce364ef0b8cc44bb9d37986d80a9dd33",
            "285fd00396b943b18173ba6009e88ccb",
            "67eced380757432da61f68b8ccc1b369",
            "39741f8aac5b4c58b33dda2769d473b5",
            "e7ce4253710a4697af8d64a0f906c9d1",
            "bd9287b298184b49820ee14fdbbc4234",
            "dc59ca267171444d9de4df9281cc347e",
            "c545880f97674ca6a1c321a3221b81dc",
            "8bb51908b9d24bbfbfbfe399dbcdd943",
            "2f595e13213c4806b8bbdd11b90693ca",
            "61bf0ae87404434fa7eb712b6f8ad056",
            "9f2d5a37e4614be0880feaf11feea3f6",
            "47c168bda58d4df1bb4fba9925967740",
            "90bdb90d79494c58858d5b183cca5fcb",
            "cde69116bf444affa2a45d368065212d",
            "ee83b4ffed3a4d999c4d571464545e51",
            "40f038e9f3e64878a4f29de9b2ea0725",
            "7d064c4092f54b7e8e87d4c77fb1a283",
            "8613cbf654eb4f25948d0d61ba855e08",
            "60856da48e8944e4b010257ce1e4e770",
            "fe8e333b89994d948af2674036b48118",
            "5d0fb2cb214e4ff389c17d954e3fbaa5",
            "f1ca672159774af0b5f6356aad5295a8",
            "f71e2379f83b4ea38055bcd2efc1c828"
          ]
        },
        "outputId": "82a99608-1cfb-4688-c684-945e6839932f"
      },
      "outputs": [
        {
          "output_type": "display_data",
          "data": {
            "text/plain": [
              "Downloading (…)solve/main/vocab.txt:   0%|          | 0.00/232k [00:00<?, ?B/s]"
            ],
            "application/vnd.jupyter.widget-view+json": {
              "version_major": 2,
              "version_minor": 0,
              "model_id": "7076da328b8c489d9e19e9eb0c4f6761"
            }
          },
          "metadata": {}
        },
        {
          "output_type": "display_data",
          "data": {
            "text/plain": [
              "Downloading (…)okenizer_config.json:   0%|          | 0.00/28.0 [00:00<?, ?B/s]"
            ],
            "application/vnd.jupyter.widget-view+json": {
              "version_major": 2,
              "version_minor": 0,
              "model_id": "e65afac03de64bdcbb27c4e15060dc36"
            }
          },
          "metadata": {}
        },
        {
          "output_type": "display_data",
          "data": {
            "text/plain": [
              "Downloading (…)lve/main/config.json:   0%|          | 0.00/483 [00:00<?, ?B/s]"
            ],
            "application/vnd.jupyter.widget-view+json": {
              "version_major": 2,
              "version_minor": 0,
              "model_id": "67eced380757432da61f68b8ccc1b369"
            }
          },
          "metadata": {}
        },
        {
          "output_type": "display_data",
          "data": {
            "text/plain": [
              "Downloading (…)\"pytorch_model.bin\";:   0%|          | 0.00/268M [00:00<?, ?B/s]"
            ],
            "application/vnd.jupyter.widget-view+json": {
              "version_major": 2,
              "version_minor": 0,
              "model_id": "90bdb90d79494c58858d5b183cca5fcb"
            }
          },
          "metadata": {}
        },
        {
          "output_type": "stream",
          "name": "stderr",
          "text": [
            "Some weights of the model checkpoint at distilbert-base-uncased were not used when initializing DistilBertForSequenceClassification: ['vocab_projector.weight', 'vocab_transform.bias', 'vocab_layer_norm.weight', 'vocab_transform.weight', 'vocab_projector.bias', 'vocab_layer_norm.bias']\n",
            "- This IS expected if you are initializing DistilBertForSequenceClassification from the checkpoint of a model trained on another task or with another architecture (e.g. initializing a BertForSequenceClassification model from a BertForPreTraining model).\n",
            "- This IS NOT expected if you are initializing DistilBertForSequenceClassification from the checkpoint of a model that you expect to be exactly identical (initializing a BertForSequenceClassification model from a BertForSequenceClassification model).\n",
            "Some weights of DistilBertForSequenceClassification were not initialized from the model checkpoint at distilbert-base-uncased and are newly initialized: ['classifier.bias', 'pre_classifier.weight', 'pre_classifier.bias', 'classifier.weight']\n",
            "You should probably TRAIN this model on a down-stream task to be able to use it for predictions and inference.\n"
          ]
        }
      ],
      "source": [
        "# We use the following pretrained tokenizer and model\n",
        "model_name = \"distilbert-base-uncased\"\n",
        "tokenizer = DistilBertTokenizer.from_pretrained(model_name)\n",
        "model = DistilBertForSequenceClassification.from_pretrained(model_name, num_labels=3)"
      ]
    },
    {
      "cell_type": "markdown",
      "metadata": {
        "id": "fCETOFT2dB4u"
      },
      "source": [
        "### **1.1 Dataset Processing**\n",
        "Our first step is to load datasets for NLI task by constructing a Pytorch Dataset. Specifically, we will need to implement tokenization and padding with a HuggingFace pre-trained tokenizer.\n",
        "\n",
        "**Complete `NLIDataset` class following the instructions in `nli.py`, and test by running the following cell.**"
      ]
    },
    {
      "cell_type": "code",
      "execution_count": 12,
      "metadata": {
        "id": "_5Sya9W5BTDl",
        "colab": {
          "base_uri": "https://localhost:8080/"
        },
        "outputId": "9b16506f-82ee-4871-9fc1-18e1d6246afa"
      },
      "outputs": [
        {
          "output_type": "stream",
          "name": "stdout",
          "text": [
            "Building NLI Dataset...\n"
          ]
        },
        {
          "output_type": "stream",
          "name": "stderr",
          "text": [
            "9815it [00:19, 515.18it/s]"
          ]
        },
        {
          "output_type": "stream",
          "name": "stdout",
          "text": [
            "NLIDataset test correct ✅\n"
          ]
        },
        {
          "output_type": "stream",
          "name": "stderr",
          "text": [
            "\n"
          ]
        }
      ],
      "source": [
        "from nli import NLIDataset\n",
        "model_name = \"distilbert-base-uncased\"\n",
        "tokenizer = DistilBertTokenizer.from_pretrained(model_name)\n",
        "dataset = NLIDataset(ROOT_PATH+\"/nli_data/dev_in_domain.jsonl\", tokenizer)\n",
        "\n",
        "from testA2 import test_NLIDataset\n",
        "test_NLIDataset(dataset)"
      ]
    },
    {
      "cell_type": "markdown",
      "metadata": {
        "id": "W0weQpG6_3vO"
      },
      "source": [
        "### **1.2 Model Training and Evaluation**\n",
        "Next, we will implement the training and evaluation process to finetune the model. For model training, you will need to calculate the loss and update the model weights by update the optimizer. Additionally, we add a learning rate schedular to adopt an adaptive learning rate during the whole training process. \n",
        "\n",
        "For evaluation, you will need to compute accuracy and F1 scores to assess the model performance. \n",
        "\n",
        "**Complete the `compute_metric()`, `train()` and `evaluate()` functions following the instructions in the `nli.py` file, you can test compute_metric() by running the following cell.**"
      ]
    },
    {
      "cell_type": "code",
      "execution_count": 13,
      "metadata": {
        "id": "6w7Leraw4tIY",
        "colab": {
          "base_uri": "https://localhost:8080/"
        },
        "outputId": "c0847801-1a87-4f45-accb-e3eafa9926e8"
      },
      "outputs": [
        {
          "output_type": "stream",
          "name": "stdout",
          "text": [
            "compute_metric test correct ✅\n"
          ]
        }
      ],
      "source": [
        "from nli import compute_metrics, train, evaluate\n",
        "\n",
        "from testA2 import test_compute_metrics\n",
        "test_compute_metrics(compute_metrics)"
      ]
    },
    {
      "cell_type": "markdown",
      "metadata": {
        "id": "pvCUS748_3vS"
      },
      "source": [
        "#### **Start Training and Validation!**\n",
        "\n",
        "Try the following different hyperparameter settings, compare and discuss the results. (Other hyperparameters should not be changed.)\n",
        "\n",
        "> A. learning_rate 2e-5\n",
        "\n",
        "> B. learning_rate 5e-5\n",
        "\n",
        "**Note:** *Each training will take about 1 hour using a GPU, please keep your computer and notebook active during the training.*\n",
        "\n",
        "**Questions: Which learning rate is better? Explain your answers.**"
      ]
    },
    {
      "cell_type": "code",
      "execution_count": 14,
      "metadata": {
        "id": "zn66mMOj_3vS",
        "colab": {
          "base_uri": "https://localhost:8080/"
        },
        "outputId": "beee6f34-455c-4d2d-fd63-03b744015fcf"
      },
      "outputs": [
        {
          "output_type": "stream",
          "name": "stderr",
          "text": [
            "Some weights of the model checkpoint at distilbert-base-uncased were not used when initializing DistilBertForSequenceClassification: ['vocab_projector.weight', 'vocab_transform.bias', 'vocab_layer_norm.weight', 'vocab_transform.weight', 'vocab_projector.bias', 'vocab_layer_norm.bias']\n",
            "- This IS expected if you are initializing DistilBertForSequenceClassification from the checkpoint of a model trained on another task or with another architecture (e.g. initializing a BertForSequenceClassification model from a BertForPreTraining model).\n",
            "- This IS NOT expected if you are initializing DistilBertForSequenceClassification from the checkpoint of a model that you expect to be exactly identical (initializing a BertForSequenceClassification model from a BertForSequenceClassification model).\n",
            "Some weights of DistilBertForSequenceClassification were not initialized from the model checkpoint at distilbert-base-uncased and are newly initialized: ['classifier.bias', 'pre_classifier.weight', 'pre_classifier.bias', 'classifier.weight']\n",
            "You should probably TRAIN this model on a down-stream task to be able to use it for predictions and inference.\n"
          ]
        },
        {
          "output_type": "stream",
          "name": "stdout",
          "text": [
            "Building NLI Dataset...\n"
          ]
        },
        {
          "output_type": "stream",
          "name": "stderr",
          "text": [
            "98176it [02:15, 724.17it/s] \n"
          ]
        },
        {
          "output_type": "stream",
          "name": "stdout",
          "text": [
            "Building NLI Dataset...\n"
          ]
        },
        {
          "output_type": "stream",
          "name": "stderr",
          "text": [
            "9815it [00:07, 1239.93it/s]\n"
          ]
        }
      ],
      "source": [
        "random.seed(seed)\n",
        "np.random.seed(seed)\n",
        "torch.manual_seed(seed)\n",
        "\n",
        "device = torch.device(\"cuda:0\" if torch.cuda.is_available() else \"cpu\")\n",
        "\n",
        "model_name = \"distilbert-base-uncased\"\n",
        "tokenizer = DistilBertTokenizer.from_pretrained(model_name)\n",
        "model = DistilBertForSequenceClassification.from_pretrained(model_name, num_labels=3)\n",
        "model.to(device)\n",
        "\n",
        "train_dataset = NLIDataset(ROOT_PATH+\"/nli_data/train.jsonl\", tokenizer)\n",
        "dev_dataset = NLIDataset(ROOT_PATH+\"/nli_data/dev_in_domain.jsonl\", tokenizer)\n",
        "\n",
        "batch_size = 16\n",
        "epochs = 4\n",
        "max_grad_norm = 1.0\n",
        "warmup_percent = 0.3\n",
        "model_save_root = ROOT_PATH+'/runs/'"
      ]
    },
    {
      "cell_type": "code",
      "execution_count": null,
      "metadata": {
        "id": "Z5aWqR1h_3vS",
        "colab": {
          "base_uri": "https://localhost:8080/"
        },
        "outputId": "f76e51fa-ec1f-4e79-e6b8-8be1be622171"
      },
      "outputs": [
        {
          "output_type": "stream",
          "name": "stderr",
          "text": [
            "/usr/local/lib/python3.9/dist-packages/transformers/optimization.py:306: FutureWarning: This implementation of AdamW is deprecated and will be removed in a future version. Use the PyTorch implementation torch.optim.AdamW instead, or set `no_deprecation_warning=True` to disable this warning\n",
            "  warnings.warn(\n",
            "Training: 100%|██████████| 6136/6136 [13:21<00:00,  7.65it/s]\n",
            "Evaluation: 100%|██████████| 614/614 [00:24<00:00, 25.09it/s]\n"
          ]
        },
        {
          "output_type": "stream",
          "name": "stdout",
          "text": [
            "Epoch: 0 | Training Loss: 0.804 | Validation Loss: 0.638\n",
            "Epoch 0 NLI Validation:\n",
            "Accuracy: 73.98% | F1: (76.71%, 70.46%, 74.68%) | Macro-F1: 73.95%\n",
            "Model Saved!\n"
          ]
        },
        {
          "output_type": "stream",
          "name": "stderr",
          "text": [
            "Training: 100%|██████████| 6136/6136 [13:11<00:00,  7.76it/s]\n",
            "Evaluation: 100%|██████████| 614/614 [00:24<00:00, 24.99it/s]\n"
          ]
        },
        {
          "output_type": "stream",
          "name": "stdout",
          "text": [
            "Epoch: 1 | Training Loss: 0.555 | Validation Loss: 0.594\n",
            "Epoch 1 NLI Validation:\n",
            "Accuracy: 76.29% | F1: (79.43%, 72.31%, 76.92%) | Macro-F1: 76.22%\n",
            "Model Saved!\n"
          ]
        },
        {
          "output_type": "stream",
          "name": "stderr",
          "text": [
            "Training: 100%|██████████| 6136/6136 [13:05<00:00,  7.81it/s]\n",
            "Evaluation: 100%|██████████| 614/614 [00:24<00:00, 25.25it/s]\n"
          ]
        },
        {
          "output_type": "stream",
          "name": "stdout",
          "text": [
            "Epoch: 2 | Training Loss: 0.333 | Validation Loss: 0.682\n",
            "Epoch 2 NLI Validation:\n",
            "Accuracy: 75.46% | F1: (78.70%, 70.75%, 76.57%) | Macro-F1: 75.34%\n"
          ]
        },
        {
          "output_type": "stream",
          "name": "stderr",
          "text": [
            "Training: 100%|██████████| 6136/6136 [13:07<00:00,  7.79it/s]\n",
            "Evaluation: 100%|██████████| 614/614 [00:24<00:00, 25.38it/s]\n"
          ]
        },
        {
          "output_type": "stream",
          "name": "stdout",
          "text": [
            "Epoch: 3 | Training Loss: 0.217 | Validation Loss: 0.925\n",
            "Epoch 3 NLI Validation:\n",
            "Accuracy: 75.20% | F1: (78.18%, 71.22%, 76.10%) | Macro-F1: 75.17%\n"
          ]
        }
      ],
      "source": [
        "random.seed(seed)\n",
        "np.random.seed(seed)\n",
        "torch.manual_seed(seed)\n",
        "\n",
        "learning_rate = 5e-5 # play around with this hyperparameter\n",
        "\n",
        "train(train_dataset, dev_dataset, model, device, batch_size, epochs,\n",
        "      learning_rate, warmup_percent, max_grad_norm, model_save_root)"
      ]
    },
    {
      "cell_type": "markdown",
      "metadata": {
        "id": "wGuzGJCB_3vT"
      },
      "source": [
        "### **Fine-Grained Validation**\n",
        "\n",
        "Use the model checkpoint saved under the first hyperparameter setting (learning_rate 2e-5) in 1.4, check the model performance on each domain subsets of the validation set, report the validation loss, accuracy, F1 scores and Macro-F1 on each domain, compare and discuss the results.\n",
        "\n",
        "**Questions: On which domain does the model perform the best? the worst? Give some possible explanations of why the model's best-performed domain is easier, and why the model's worst-performed domain is more challenging. Use some examples to support your explanations.**\n",
        "\n",
        "**Note:** To find examples for supporting your discussion, save the model prediction results on each domain under the './predictions/' folder, by specifying the *result_save_file* of the *evaluate* function."
      ]
    },
    {
      "cell_type": "code",
      "execution_count": 15,
      "metadata": {
        "id": "YCWWJjTP_3vT",
        "colab": {
          "base_uri": "https://localhost:8080/"
        },
        "outputId": "3e8505d0-6c56-4719-e3e0-4212854dd6bb"
      },
      "outputs": [
        {
          "output_type": "stream",
          "name": "stderr",
          "text": [
            "9815it [00:00, 111052.32it/s]\n"
          ]
        }
      ],
      "source": [
        "batch_size = 16\n",
        "learning_rate = 2e-5\n",
        "warmup_percent = 0.3\n",
        "checkpoint = ROOT_PATH+'/runs/lr{}-warmup{}'.format(learning_rate, warmup_percent)\n",
        "\n",
        "# Split the validation sets into subsets with different domains\n",
        "# Save the subsets under './nli_data/'\n",
        "# Replace \"...\" with your code\n",
        "data_dir = ROOT_PATH+'/nli_data'\n",
        "data_dev_path = os.path.join(data_dir, 'dev_in_domain.jsonl')\n",
        "samples = []\n",
        "with jsonlines.open(data_dev_path, \"r\") as reader:\n",
        "    for sid, sample in enumerate(tqdm(reader.iter())):\n",
        "        samples.append(sample)\n",
        "\n",
        "for domain in [\"fiction\", \"government\", \"slate\", \"telephone\", \"travel\"]:\n",
        "    with jsonlines.open(os.path.join(data_dir, f\"dev_{domain}.jsonl\"), 'w') as writer:\n",
        "      samples_domain = list(filter(lambda x: x['domain'] == domain, samples))\n",
        "      writer.write_all(samples_domain)"
      ]
    },
    {
      "cell_type": "code",
      "execution_count": 16,
      "metadata": {
        "id": "Q4J2pu60xHTd",
        "colab": {
          "base_uri": "https://localhost:8080/"
        },
        "outputId": "6580a1b4-8acc-48de-d3fa-dd7bf31458c7"
      },
      "outputs": [
        {
          "output_type": "stream",
          "name": "stdout",
          "text": [
            "Building NLI Dataset...\n"
          ]
        },
        {
          "output_type": "stream",
          "name": "stderr",
          "text": [
            "1973it [00:01, 1300.61it/s]\n",
            "Evaluation: 100%|██████████| 124/124 [00:03<00:00, 31.41it/s]\n"
          ]
        },
        {
          "output_type": "stream",
          "name": "stdout",
          "text": [
            "Domain: fiction\n",
            "Validation Loss: 0.616 | Accuracy: 75.77%\n",
            "F1: (78.12%, 71.96%, 77.25%) | Macro-F1: 75.78%\n",
            "Building NLI Dataset...\n"
          ]
        },
        {
          "output_type": "stream",
          "name": "stderr",
          "text": [
            "1945it [00:03, 588.05it/s]\n",
            "Evaluation: 100%|██████████| 122/122 [00:04<00:00, 28.48it/s]\n"
          ]
        },
        {
          "output_type": "stream",
          "name": "stdout",
          "text": [
            "Domain: government\n",
            "Validation Loss: 0.516 | Accuracy: 81.65%\n",
            "F1: (84.93%, 78.07%, 81.47%) | Macro-F1: 81.49%\n",
            "Building NLI Dataset...\n"
          ]
        },
        {
          "output_type": "stream",
          "name": "stderr",
          "text": [
            "1955it [00:01, 1012.94it/s]\n",
            "Evaluation: 100%|██████████| 123/123 [00:04<00:00, 29.11it/s]\n"
          ]
        },
        {
          "output_type": "stream",
          "name": "stdout",
          "text": [
            "Domain: slate\n",
            "Validation Loss: 0.716 | Accuracy: 72.58%\n",
            "F1: (74.84%, 68.94%, 73.98%) | Macro-F1: 72.59%\n",
            "Building NLI Dataset...\n"
          ]
        },
        {
          "output_type": "stream",
          "name": "stderr",
          "text": [
            "1966it [00:02, 684.04it/s]\n",
            "Evaluation: 100%|██████████| 123/123 [00:05<00:00, 23.72it/s]\n"
          ]
        },
        {
          "output_type": "stream",
          "name": "stdout",
          "text": [
            "Domain: telephone\n",
            "Validation Loss: 0.608 | Accuracy: 76.45%\n",
            "F1: (79.65%, 71.85%, 77.62%) | Macro-F1: 76.37%\n",
            "Building NLI Dataset...\n"
          ]
        },
        {
          "output_type": "stream",
          "name": "stderr",
          "text": [
            "1976it [00:01, 1191.12it/s]\n",
            "Evaluation: 100%|██████████| 124/124 [00:04<00:00, 28.33it/s]\n"
          ]
        },
        {
          "output_type": "stream",
          "name": "stdout",
          "text": [
            "Domain: travel\n",
            "Validation Loss: 0.600 | Accuracy: 79.45%\n",
            "F1: (83.76%, 76.40%, 77.79%) | Macro-F1: 79.32%\n"
          ]
        }
      ],
      "source": [
        "device = torch.device(\"cuda:0\" if torch.cuda.is_available() else \"cpu\")\n",
        "tokenizer = DistilBertTokenizer.from_pretrained(checkpoint)\n",
        "model = DistilBertForSequenceClassification.from_pretrained(checkpoint)\n",
        "model.to(device)\n",
        "\n",
        "for domain in [\"fiction\", \"government\", \"slate\", \"telephone\", \"travel\"]:\n",
        "    \n",
        "    # Evaluate and save prediction results in each domain\n",
        "    # Replace \"...\" with your code\n",
        "    dev_domain_dataset = NLIDataset(ROOT_PATH+f\"/nli_data/dev_{domain}.jsonl\", tokenizer)\n",
        "    dev_loss, acc, f1_ent, f1_neu, f1_con = evaluate(\n",
        "                                              dev_domain_dataset,\n",
        "                                              model, device,\n",
        "                                              batch_size, no_labels=False,\n",
        "                                              result_save_file=ROOT_PATH + f\"/predictions/{domain}.jsonl\"\n",
        "                                            )\n",
        "    macro_f1 = (f1_ent + f1_neu + f1_con) / 3\n",
        "    \n",
        "    print(f'Domain: {domain}')\n",
        "    print(f'Validation Loss: {dev_loss:.3f} | Accuracy: {acc*100:.2f}%')\n",
        "    print(f'F1: ({f1_ent*100:.2f}%, {f1_neu*100:.2f}%, {f1_con*100:.2f}%) | Macro-F1: {macro_f1*100:.2f}%')"
      ]
    },
    {
      "cell_type": "markdown",
      "metadata": {
        "id": "6NyMZ5E4-QxM"
      },
      "source": [
        "## **Task2: Identify Shortcuts**\n",
        "\n",
        "We aim to find some shortcuts that the model in 1.4 (under the first hyperparameter setting) has learned."
      ]
    },
    {
      "cell_type": "markdown",
      "metadata": {
        "id": "4lCHLdaH_3vT"
      },
      "source": [
        "### **2.1 Word-Pair Pattern Extraction**\n",
        "\n",
        "We consider to exatrct simple word-pair patterns that the model may have learned from the NLI data. \n",
        "\n",
        "For this, we assume that a pair of words that occur in a premise-hypothesis sentence pair (one occurs in premise and the other occurs in hypothesis) may serve as a key indicator of the logical relationship between the premise and hypothesis sentences. For example:\n",
        "\n",
        ">- Premise: Consider the United States Postal Service.\n",
        ">- Hypothesis: Forget the United States Postal Service.\n",
        "\n",
        "Here the word-pair \"consider\" and \"forget\" determine that the premise and hypothesis have a *contradiction* relationship, so (consider, forget) --> *contradiction* might be a good pattern to learn.\n",
        "\n",
        "**Note:** \n",
        "- We do not consider the naive word pair patterns where the word from premise and the word from hypothesis are identical, e.g., (service, service) got from the above premise-hypothesis sentence pair.\n",
        "- We do not consider stop words neither, punctuations and words that contain special prefix '##', e.g., '##s' in the pattern extraction."
      ]
    },
    {
      "cell_type": "code",
      "execution_count": 19,
      "metadata": {
        "id": "7RKdt_-j_3vT",
        "colab": {
          "base_uri": "https://localhost:8080/"
        },
        "outputId": "ef14eada-a4db-4644-e280-2346926db96e"
      },
      "outputs": [
        {
          "output_type": "stream",
          "name": "stderr",
          "text": [
            "[nltk_data] Downloading package stopwords to /root/nltk_data...\n",
            "[nltk_data]   Package stopwords is already up-to-date!\n"
          ]
        }
      ],
      "source": [
        "# stop_words and puntuations to be removed from consideration in the pattern extraction\n",
        "\n",
        "import nltk\n",
        "nltk.download('stopwords')\n",
        "stop_words = nltk.corpus.stopwords.words('english')\n",
        "stop_words.append('uh')\n",
        "\n",
        "import string\n",
        "puncs = string.punctuation"
      ]
    },
    {
      "cell_type": "markdown",
      "metadata": {
        "id": "_NovYRxv_3vU"
      },
      "source": [
        "**Complete `word_pair_extraction()` function in `shortcut.py` file.**\n",
        "\n",
        "The keys of the returned dictionary *word_pairs* should be **different word-pairs** appered in premise-hypothesis sentence pairs, i.e., (a word from the premise, a word from the hypothesis).\n",
        "\n",
        "The value of a word-pair key records the counts of entailment, neutral and contradiction predictions **made by the model** when the word-pair occurs, i.e., \\[#entailment_predictions, #neutral_predictions,  #contradiction_predictions\\].\n",
        "\n",
        "**Note:** Remember to remove naive word pairs (i.e., premise word identical to hypothesis word), stop_words, puntuations and words with special prefix '##' out of consideration."
      ]
    },
    {
      "cell_type": "markdown",
      "metadata": {
        "id": "UTHt1frZ_3vU"
      },
      "source": [
        "### **2.2 Distill Potentially Useful Patterns**\n",
        "\n",
        "Find and print the **top-100** word-pairs that are associated with the **largest total number** of model predictions, which might contain frequently used patterns."
      ]
    },
    {
      "cell_type": "code",
      "execution_count": 20,
      "metadata": {
        "id": "IFZm6tFJFmlg",
        "colab": {
          "base_uri": "https://localhost:8080/"
        },
        "outputId": "2dde814d-67fb-480c-95de-eb816e330737"
      },
      "outputs": [
        {
          "output_type": "stream",
          "name": "stderr",
          "text": [
            "[nltk_data] Downloading package stopwords to /root/nltk_data...\n",
            "[nltk_data]   Package stopwords is already up-to-date!\n"
          ]
        },
        {
          "output_type": "execute_result",
          "data": {
            "text/plain": [
              "<module 'shortcut' from '/content/drive/MyDrive/NLP/A2/shortcut.py'>"
            ]
          },
          "metadata": {},
          "execution_count": 20
        }
      ],
      "source": [
        "from shortcut import word_pair_extraction\n",
        "import importlib\n",
        "import shortcut\n",
        "importlib.reload(shortcut)"
      ]
    },
    {
      "cell_type": "code",
      "execution_count": 21,
      "metadata": {
        "id": "TUyal5mW_3vU",
        "colab": {
          "base_uri": "https://localhost:8080/"
        },
        "outputId": "6e8eaa6b-987e-4364-a5b3-e24dc2abf664"
      },
      "outputs": [
        {
          "output_type": "stream",
          "name": "stdout",
          "text": [
            "[('services', 'legal'), ('postal', 'service'), ('service', 'postal'), ('legal', 'services'), ('know', 'time'), ('know', 'like'), ('yeah', 'like'), ('like', 'lot'), ('would', 'could'), ('da', 'ca'), ('ca', 'da'), ('know', 'money'), ('year', 'last'), ('kids', 'children'), ('know', 'think'), ('yeah', 'never'), ('know', 'get'), ('know', 'people'), ('york', 'new'), ('yeah', 'one'), ('one', 'people'), ('two', 'one'), ('like', 'think'), ('would', 'people'), ('last', 'year'), ('yeah', 'time'), ('one', 'get'), ('state', 'l'), ('one', 'many'), ('going', 'get'), ('one', 'like'), ('good', 'bad'), ('national', 'saving'), ('new', 'york'), ('year', 'one'), ('legal', 'aid'), ('know', 'lot'), ('yeah', 'get'), ('know', 'go'), ('said', 'told'), ('one', 'last'), ('many', 'people'), ('well', 'get'), ('u', 'us'), ('united', 'us'), ('states', 'us'), ('case', 'studies'), ('saving', 'savings'), ('one', 'year'), ('may', 'might'), ('well', 'time'), ('like', 'never'), ('know', 'never'), ('yeah', 'think'), ('know', 'good'), ('years', 'year'), ('really', 'like'), ('mail', 'service'), ('legal', 'state'), ('well', 'people'), ('last', 'years'), ('know', 'year'), ('yeah', 'go'), ('good', 'would'), ('guess', 'get'), ('really', 'would'), ('think', 'would'), ('could', 'would'), ('well', 'would'), ('like', 'one'), ('saving', 'national'), ('first', 'mail'), ('class', 'mail'), ('state', 'legal'), ('costs', 'cost'), ('system', 'legal'), ('well', 'lot'), ('know', 'take'), ('know', 'much'), ('good', 'time'), ('yeah', 'lot'), ('yeah', 'really'), ('um', 'think'), ('yeah', 'want'), ('said', 'people'), ('get', 'want'), ('like', 'people'), ('time', 'never'), ('well', 'never'), ('proposed', 'rule'), ('studies', 'case'), ('study', 'case'), ('legal', 'help'), ('aid', 'legal'), ('used', 'use'), ('said', 'services'), ('said', 'legal'), ('know', 'well'), ('income', 'tax'), ('get', 'children')]\n"
          ]
        }
      ],
      "source": [
        "# all your saved model prediction results in 1.2 Fine-Grained Validation\n",
        "domains = [\"fiction\", \"government\", \"slate\", \"telephone\", \"travel\"]\n",
        "prediction_files = [ROOT_PATH + f\"/predictions/{domain}.jsonl\" for domain in domains] \n",
        "\n",
        "tokenizer = DistilBertTokenizer.from_pretrained(checkpoint)\n",
        "word_pairs = word_pair_extraction(prediction_files, tokenizer)\n",
        "\n",
        "# find top-100 word-pairs associated with the largest total number of model predictions\n",
        "top_100_freq_pairs = sorted([(pair, x[0]+x[1]+x[2]) for pair, x in word_pairs.items()], key=lambda x: x[1], reverse=True)\n",
        "top_100_freq_pairs = list(map(lambda x: x[0], top_100_freq_pairs))[:100]\n",
        "\n",
        "print(top_100_freq_pairs)"
      ]
    },
    {
      "cell_type": "markdown",
      "metadata": {
        "id": "pz25EvuI_3vU"
      },
      "source": [
        "**Among the top-100 frequent word-pairs above**, find out the **top-5** word-pairs whose occurances **most likely** lead to *entailment* predictions (entailment patterns), and the **top-5** word-pairs whose occurances **most likely** lead to *contradiction* predictions (contradiction patterns).\n",
        "\n",
        "**Explain your rules for finding these word pairs.**"
      ]
    },
    {
      "cell_type": "code",
      "execution_count": 22,
      "metadata": {
        "id": "Yq2cVOaWTEYw",
        "colab": {
          "base_uri": "https://localhost:8080/"
        },
        "outputId": "0b729ccf-b0b8-4891-e3b9-8588aa21b3b7"
      },
      "outputs": [
        {
          "output_type": "stream",
          "name": "stdout",
          "text": [
            "Entailment Patterns:\n",
            "[('postal', 'service'), ('services', 'legal'), ('service', 'postal'), ('legal', 'services'), ('know', 'like')]\n",
            "Contradiction Patterns:\n",
            "[('yeah', 'never'), ('services', 'legal'), ('know', 'never'), ('legal', 'services'), ('postal', 'service')]\n"
          ]
        }
      ],
      "source": [
        "# find top-5 entailment and contradiction patterns\n",
        "entailment_values = sorted([(word_pair, word_pairs[word_pair][0]) for word_pair in top_100_freq_pairs], key=lambda x: x[1], reverse=True)\n",
        "contradiction_values = sorted([(word_pair, word_pairs[word_pair][2]) for word_pair in top_100_freq_pairs], key=lambda x: x[1], reverse=True)\n",
        "top_5_entailment = list(map(lambda x: x[0], entailment_values))[:5]\n",
        "top_5_contradict = list(map(lambda x: x[0], contradiction_values))[:5]\n",
        "\n",
        "print(\"Entailment Patterns:\")\n",
        "print(top_5_entailment)\n",
        "print(\"Contradiction Patterns:\")\n",
        "print(top_5_contradict)"
      ]
    },
    {
      "cell_type": "markdown",
      "metadata": {
        "id": "wjVti-vL_3vV"
      },
      "source": [
        "### **2.3 Case Study**\n",
        "\n",
        "Find out and study **4 representative** cases where the pattern that you have found in 2.2 **fails**, e.g., the premise-hypothesis sentence pair contains ('good', 'bad'), but has an *entailment* gold label.\n",
        "\n",
        "**Based on your case study, explain the limitations of the word-pair patterns.**"
      ]
    },
    {
      "cell_type": "code",
      "source": [
        "# Not all the 5 word pairs make sense in the above code block where we\n",
        "# assign values to the variables top_5_entailment and top_5_contradict\n",
        "# So we choose the ones that will help us interpret the results properly\n",
        "reasonable_entailment_patterns = [('know', 'like')]\n",
        "reasonable_contradiction_patterns = [('yeah', 'never'), ('know', 'never')]"
      ],
      "metadata": {
        "id": "_ndGZL2D_eko"
      },
      "execution_count": 27,
      "outputs": []
    },
    {
      "cell_type": "code",
      "execution_count": 28,
      "metadata": {
        "id": "2XyPmb01_3vV",
        "colab": {
          "base_uri": "https://localhost:8080/"
        },
        "outputId": "c61cc070-eb77-4479-d59c-56094a9ba88f"
      },
      "outputs": [
        {
          "output_type": "stream",
          "name": "stderr",
          "text": [
            "1973it [00:03, 599.13it/s]\n",
            "1945it [00:03, 571.02it/s]\n",
            "1955it [00:02, 830.20it/s] \n",
            "1966it [00:01, 1356.50it/s]\n",
            "1976it [00:01, 1240.57it/s]\n"
          ]
        }
      ],
      "source": [
        "# you can fill your code for finding cases here\n",
        "import itertools\n",
        "with jsonlines.open(ROOT_PATH + f\"/case_study_entailment.jsonl\", \"w\") as writer_e:\n",
        "  with jsonlines.open(ROOT_PATH + f\"/case_study_contradiction.jsonl\", \"w\") as writer_c:\n",
        "    for domain in [\"fiction\", \"government\", \"slate\", \"telephone\", \"travel\"]:\n",
        "      with jsonlines.open(ROOT_PATH + f\"/predictions/{domain}.jsonl\", \"r\") as reader:\n",
        "          for sid, sample in enumerate(tqdm(reader.iter())):\n",
        "            p_tokens = tokenizer.tokenize(sample['premise'])\n",
        "            h_tokens = tokenizer.tokenize(sample['hypothesis'])\n",
        "\n",
        "            p_h_pairs = itertools.product(p_tokens, h_tokens)\n",
        "            found_entailment, found_contradiction = False, False\n",
        "            for pair in p_h_pairs:\n",
        "              if not found_entailment and pair in reasonable_entailment_patterns and sample['prediction'] == 'contradiction':\n",
        "                writer_e.write(sample)\n",
        "                found_entailment = True\n",
        "              \n",
        "              if not found_contradiction and pair in reasonable_contradiction_patterns and sample['prediction'] == 'entailment':\n",
        "                writer_c.write(sample)\n",
        "                found_contradiction = True"
      ]
    },
    {
      "cell_type": "code",
      "source": [
        "with jsonlines.open(ROOT_PATH + f\"/case_study_entailment.jsonl\") as reader_e:\n",
        "  for sample in reader_e.iter():\n",
        "    print(sample)\n",
        "\n",
        "print(\"Contradiction examples\")\n",
        "with jsonlines.open(ROOT_PATH + f\"/case_study_contradiction.jsonl\") as reader_e:\n",
        "  for sample in reader_e.iter():\n",
        "    print(sample)"
      ],
      "metadata": {
        "colab": {
          "base_uri": "https://localhost:8080/"
        },
        "id": "tU3_ywq797XO",
        "outputId": "eb195d40-ab2a-4465-9d9a-7defb18ee5b1"
      },
      "execution_count": 30,
      "outputs": [
        {
          "output_type": "stream",
          "name": "stdout",
          "text": [
            "{'premise': 'and the same is true of the drug hangover you know if you', 'hypothesis': \"It's nothing like a drug hangover.\", 'domain': 'telephone', 'label': 'contradiction', 'prediction': 'contradiction'}\n",
            "{'premise': \"but i don't know you know  maybe you could do that for a certain period of time but i mean how long does that kind of a thing take you know to to um say to question the person or to get into their head\", 'hypothesis': \"It's not worth doing if you have to question the person like that.\", 'domain': 'telephone', 'label': 'neutral', 'prediction': 'contradiction'}\n",
            "{'premise': \"i don't know if you have a place there called uh or you probably have something similar we call it Service Merchandise\", 'hypothesis': 'You probably have nothing like it.', 'domain': 'telephone', 'label': 'neutral', 'prediction': 'contradiction'}\n",
            "{'premise': \"um-hum yeah i know what that's like uh-huh\", 'hypothesis': 'I have no idea what that is like.', 'domain': 'telephone', 'label': 'contradiction', 'prediction': 'contradiction'}\n",
            "{'premise': 'yeah right right yeah i know i uh i remember my college days  and having to do that too', 'hypothesis': \"I remember that when I went to college we didn't have anything like that.\", 'domain': 'telephone', 'label': 'contradiction', 'prediction': 'contradiction'}\n",
            "Contradiction examples\n",
            "{'premise': \"yeah yeah and i took a five year note out on my car when i right when i got out of college and uh i'll never do that again i still got a couple of years on it to go and i'm\", 'hypothesis': \"I took a five year note out on my car when I got out of college, and I'll never do that again.\", 'domain': 'telephone', 'label': 'entailment', 'prediction': 'entailment'}\n",
            "{'premise': \"oh really yeah i've i've never seen either one of them\", 'hypothesis': \"I've never looked at either of them.\", 'domain': 'telephone', 'label': 'entailment', 'prediction': 'entailment'}\n",
            "{'premise': \"you know even even into major things just to keep our car longer because i don't think we get the money that we put into them out of them in two years or three years and of course i was never in a position where i could trade my car off every two years\", 'hypothesis': 'I have never been able to trade my car off every couple of years.', 'domain': 'telephone', 'label': 'entailment', 'prediction': 'entailment'}\n",
            "{'premise': \"okay i'll keep that in mind yeah you serve that yourself or the for a family\", 'hypothesis': 'I will never forget that. You can have that on your own or share with a family.', 'domain': 'telephone', 'label': 'entailment', 'prediction': 'entailment'}\n",
            "{'premise': \"yeah i've always threatened to take lessons but i've never gotten around to it\", 'hypothesis': 'I have never gotten around to taking lessons.', 'domain': 'telephone', 'label': 'entailment', 'prediction': 'entailment'}\n"
          ]
        }
      ]
    },
    {
      "cell_type": "markdown",
      "source": [
        "Representative Cases:\n",
        "1. - 'premise': 'and the same is true of the drug hangover you know if you'\n",
        "   - 'hypothesis': 'It's nothing like a drug hangover.'\n",
        "   \n",
        "   In this example, we see that the pair ('know', 'like') is present in the sample, which follows the entailment pattern. However the sentences contradict each other. \n",
        "2. - 'premise': \"um-hum yeah i know what that's like uh-huh\"\n",
        "   - 'hypothesis': 'I have no idea what that is like.'\n",
        "\n",
        "   Similar reasoning as above applies here\n",
        "\n",
        "3. - 'premise': 'yeah right right yeah i know i uh i remember my college days  and having to do that too'\n",
        "   - 'hypothesis': \"I remember that when I went to college we didn't have anything like that.\"\n",
        "   \n",
        "   The same reasoning applies here as well\n",
        "4. - 'premise': \"oh really yeah i've i've never seen either one of them\"\n",
        "   - 'hypothesis': \"I've never looked at either of them.\"\n",
        "   \n",
        "   In this case we see that the pair ('yeah', 'never') is present which is a pattern for contradiction, but the given sample has entailment label\n",
        "\n",
        "5. - 'premise': \"okay i'll keep that in mind yeah you serve that yourself or the for a family\"\n",
        "   - 'hypothesis': 'I will never forget that. You can have that on your own or share with a family.'\n",
        "\n",
        "  Same reasoning as above applies. "
      ],
      "metadata": {
        "id": "QswP5Xub-8Tn"
      }
    },
    {
      "cell_type": "markdown",
      "metadata": {
        "id": "yND0DEfT-eXn"
      },
      "source": [
        "## **Task3: Annotate New Data**\n",
        "\n",
        "To check the robustness of developed model, **some additional sets of test data** are collected (under /nli_data/test_data/), which contain NLI samples that are out of the domains of the training and validation data.\n",
        "\n",
        "However, the test data does not have gold labels of the relationships between premise and hypothesis sentences, i.e., all the labels are marked as *hidden*. **We consider to annotate the data by ourselves.**"
      ]
    },
    {
      "cell_type": "markdown",
      "metadata": {
        "id": "ZQNXrRHr_3vV"
      },
      "source": [
        "### **3.1 Write an Annotation Guideline**\n",
        "\n",
        "Imagine that you are going to assign this annotation task to a crowdsourcing worker, who is completely not familiar with computer science and NLP. Think about how you are going to explain this annotation task to him in order to guide him do a decent job. Write an annotation guideline for such a worker who are going to do this task for you.\n",
        "\n",
        "**Note:** You should come up with your own guideline without the help of your partner(s) in later Task 3.2"
      ]
    },
    {
      "cell_type": "markdown",
      "metadata": {
        "id": "pfkqNbUA_3vV"
      },
      "source": [
        "Annotation guideline:\n",
        "Read the sentence in the premise and the sentence in hypothesis. Now 3 cases are possible:\n",
        "- Given the premise, the hypothesis is true. In this case, the label given is entailment\n",
        "- Given the premise, the hypothesis is false. In this case, the label given is contradiction\n",
        "- Given the premise, it cannot be determined if the hypothesis is true or false. In this case, the label is neutral. \n",
        "\n",
        "Clearly, this guideline is simple enough to be understood by someone with no computer science background. It only requires knowledge of the english language. \n",
        "\n",
        "\n"
      ]
    },
    {
      "cell_type": "markdown",
      "metadata": {
        "id": "XBWK4Bw__3vV"
      },
      "source": [
        "### **3.2 Annotate Your 100 Datapoints with Partner(s)**\n",
        "\n",
        "Annotate your 100 test datapoints with your partner(s), by editing the value of the key \"label_student1\", \"label_student2\" and \"label_student3\" (if you are in a group of three students) in each datapoint."
      ]
    },
    {
      "cell_type": "markdown",
      "metadata": {
        "id": "cczFQm0eHknv"
      },
      "source": [
        "**Note:** \n",
        "- You can download the assigned annotation file (`<your-testset-id>.jsonl`) by [this link](https://drive.google.com/drive/folders/146ExExmpnSUayu6ArGiN5gQzCPJp0myB?usp=share_link)\n",
        "- Please find your annotation partner according to the \"Student Pairing List for A2 Task3\" shared on Ed."
      ]
    },
    {
      "cell_type": "markdown",
      "source": [
        "**Name your annotated file as `<index>-<sciper_number>.jsonl`.** \n",
        "\n",
        "For example, if you get `01.jsonl` to annotate, you should name your deliverable as `01-<your_sciper_number>.jsonl`."
      ],
      "metadata": {
        "id": "IWhjTn2fQ5YE"
      }
    },
    {
      "cell_type": "markdown",
      "metadata": {
        "id": "uyP0GtHe_3vW"
      },
      "source": [
        "### **3.3 Agreement Measure**\n",
        "\n",
        "Based on your and your partner's annotations on the 100 test datapoints in 3.2, calculate the [Cohen's Kappa](https://scikit-learn.org/stable/modules/model_evaluation.html#cohen-kappa) or [Krippendorff's Alpha](https://github.com/pln-fing-udelar/fast-krippendorff) (if you are in a group of three students) between the annotators. Discuss the agreement measure results.\n",
        "\n",
        "**Note:** Cohen's Kappa or Krippendorff's Alpha interpretation\n",
        "\n",
        "0: No Agreement\n",
        "\n",
        "0 ~ 0.2: Slight Agreement\n",
        "\n",
        "0.2 ~ 0.4: Fair Agreement\n",
        "\n",
        "0.4 ~ 0.6: Moderate Agreement\n",
        "\n",
        "0.6 ~ 0.8: Substantial Agreement\n",
        "\n",
        "0.8 ~ 1.0: Near Perfect Agreement\n",
        "\n",
        "1.0: Perfect Agreement\n",
        "\n",
        "> **Questions**: What is your interpretation of Cohen's Kappa or Krippendorff's Alpha value according to the above mapping? Which kind of disagreements are most frequently happen between you and your partner(s), i.e., *entailment* vs. *neutral*, *entailment* vs. *contradiction*, or *neutral* vs. *contradiction*? For the second question, give some examples to explain why that is the case. Are there possible ways to address the disagrrements between two annotators?"
      ]
    },
    {
      "cell_type": "markdown",
      "source": [
        "According to the above mapping, me and my co-annotator have a substantial agreement. The most frequent disagreements between me and my partner have been between entailment and neutral. This is expected, since the difference between entailment and contradiction is quite clear. And so is the difference between contradiction and neutral. However, in case of comparing against entailment and neutral, it is a bit confusing as the task is very subjective. \n",
        "\n",
        "Examples:\n",
        "1. - 'premise': 'This essay was selected as the First Prize winner ($1,000) in the Sixth VERBATIM Essay Competition.'\n",
        "   - 'hypothesis': 'It was chosen and awarded a substantial cash prize for the  VERBATIM contest run last year.'\n",
        "\n",
        "   I chose neutral label for this example, however my partner chose entailment.My reasoning for choosing neutral was that given the premise, we cannot definitely conclude that the hypothesis is true. Since the premise mentions that the essay won first prize in the sixth VERBATIM essay competition, and the hypothesis mentions 'last year', given the premise, we cannot guarantee that the hypothesis is true. \n",
        "\n",
        "2. - 'premise': 'Each generation of girls faces new  new technology, new moral issues, new opportunities.'\n",
        "   - 'hypothesis': 'Each generation of girls faces new opportunities for employment. '\n",
        "\n",
        "   I chose entailment label for this example, whereas my partner chose neutral. My reasoning for choosing entailment was that the premise mentions 'new opportunities' and the hypothesis mentions 'new opportunities for employment'. The latter can be assumed to be a subset of the former. Hence I thought entailment is the best label. \n",
        "\n",
        "\n",
        "To resolve such issues between the annotators, the best way is for them to discuss what their reasoning is and then decide based on that. However, that is not very practically possible. So the good idea is to have multiple annotators and then choose the label given by the majority of the annotators. "
      ],
      "metadata": {
        "id": "ekuK-q0YfaoG"
      }
    },
    {
      "cell_type": "code",
      "execution_count": 15,
      "metadata": {
        "id": "CpS6VOiX_3vW",
        "colab": {
          "base_uri": "https://localhost:8080/"
        },
        "outputId": "c945a2e2-68f2-4945-a016-0f109764b57f"
      },
      "outputs": [
        {
          "output_type": "stream",
          "name": "stderr",
          "text": [
            "100it [00:00, 352.42it/s]\n",
            "100it [00:00, 363.68it/s]\n"
          ]
        },
        {
          "output_type": "execute_result",
          "data": {
            "text/plain": [
              "0.7424632631419482"
            ]
          },
          "metadata": {},
          "execution_count": 15
        }
      ],
      "source": [
        "# fill your code here\n",
        "from sklearn.metrics import cohen_kappa_score\n",
        "labels_1, labels_2 = [], []\n",
        "with jsonlines.open(ROOT_PATH+f\"/nli_data/03-366788.jsonl\") as reader:\n",
        "  for sample in tqdm(reader.iter()):\n",
        "    labels_1.append(sample['label_student1'])\n",
        "\n",
        "with jsonlines.open(ROOT_PATH+f\"/nli_data/03-337560.jsonl\") as reader:\n",
        "  for sample in tqdm(reader.iter()):\n",
        "    labels_2.append(sample['label_student2'])\n",
        "\n",
        "cohen_kappa_score(labels_1, labels_2)"
      ]
    },
    {
      "cell_type": "markdown",
      "metadata": {
        "id": "Ff12-RLf_3vW"
      },
      "source": [
        "### **3.4 Robustness Check**\n",
        "\n",
        "Take into account both your and your partner's annotations, determine the final labels of the 100 test datapoints, by editing the value of the key \"label\" in each of your datapoint.\n",
        "\n",
        "Evaluate the performance of your developed model in 1.4 (still under the first hyperparameter setting) on your annotated 100 test datapoints, and compare with the model performance on the validation set.\n",
        "\n",
        "> **Question**: Do you think that your developed model has a good robuestness of handling out-of-domain NLI predictions?"
      ]
    },
    {
      "cell_type": "markdown",
      "source": [
        "I think my developed model has a good robustness of handling out-of-domain NLI predictions. Since we get an accuracy of 74% and a Macro F1 score of 73.65%, which is quite reasonable for zero shot predictions, and also comparable to model outputs on the in-domain validation dataset. So, out-of-domain NLI predictions are handled well by my model.  "
      ],
      "metadata": {
        "id": "HDRdZoj_e8Ce"
      }
    },
    {
      "cell_type": "markdown",
      "source": [
        "**Note**: For getting the final labels, I use my own annotations because I found those to be more reasonable than my partners'. But since we have substantial agreement (score of 0.74), I think there should not be much difference. "
      ],
      "metadata": {
        "id": "qziJ5uHvCCmC"
      }
    },
    {
      "cell_type": "code",
      "execution_count": 54,
      "metadata": {
        "id": "LowJ05h6ypaA",
        "colab": {
          "base_uri": "https://localhost:8080/"
        },
        "outputId": "e24197f2-d1bb-4ddf-a7a9-735f7c980c92"
      },
      "outputs": [
        {
          "output_type": "stream",
          "name": "stdout",
          "text": [
            "Building NLI Dataset...\n"
          ]
        },
        {
          "output_type": "stream",
          "name": "stderr",
          "text": [
            "100it [00:00, 304.25it/s]\n",
            "Evaluation: 100%|██████████| 7/7 [00:00<00:00, 30.05it/s]\n"
          ]
        },
        {
          "output_type": "stream",
          "name": "stdout",
          "text": [
            "Validation Loss: 0.781 | Accuracy: 74.00%\n",
            "F1: (77.11%, 70.77%, 73.08%) | Macro-F1: 73.65%\n"
          ]
        }
      ],
      "source": [
        "# fill your code here\n",
        "from transformers import DistilBertTokenizer, DistilBertForSequenceClassification\n",
        "\n",
        "learning_rate = 2e-5\n",
        "warmup_percent = 0.3\n",
        "checkpoint = ROOT_PATH+'/runs/lr{}-warmup{}'.format(learning_rate, warmup_percent)\n",
        "\n",
        "device = torch.device(\"cuda:0\" if torch.cuda.is_available() else \"cpu\")\n",
        "tokenizer = DistilBertTokenizer.from_pretrained(checkpoint)\n",
        "model = DistilBertForSequenceClassification.from_pretrained(checkpoint)\n",
        "model.to(device)\n",
        "\n",
        "annotated_dataset = NLIDataset(ROOT_PATH+f\"/nli_data/03-final.jsonl\", tokenizer)\n",
        "dev_loss, acc, f1_ent, f1_neu, f1_con = evaluate(\n",
        "                                          annotated_dataset,\n",
        "                                          model, device,\n",
        "                                          batch_size, no_labels=False,\n",
        "                                          result_save_file=ROOT_PATH + f\"/predictions/annotated_dataset.jsonl\"\n",
        "                                        )\n",
        "macro_f1 = (f1_ent + f1_neu + f1_con) / 3\n",
        "\n",
        "print(f'Validation Loss: {dev_loss:.3f} | Accuracy: {acc*100:.2f}%')\n",
        "print(f'F1: ({f1_ent*100:.2f}%, {f1_neu*100:.2f}%, {f1_con*100:.2f}%) | Macro-F1: {macro_f1*100:.2f}%')\n",
        "\n"
      ]
    },
    {
      "cell_type": "markdown",
      "metadata": {
        "id": "t4wuRpHt-rQF"
      },
      "source": [
        "## **Task4: Data Augmentation**\n",
        "\n",
        "Finally, we consider to use a data augmentation method to create more training data, and use the augmented data to improve the model performance. The data augmentation method we are going to use is [EDA](https://aclanthology.org/D19-1670/)."
      ]
    },
    {
      "cell_type": "markdown",
      "metadata": {
        "id": "FEtgwKJt0kfO"
      },
      "source": [
        "### **4.1 EDA: Easy Data Augmentation algorithm for Text**\n",
        "\n",
        "For this section, we will need to implement the most simple data augmentation techniques on textual sentences, including **SR** (Synonym Replacement), **RD** (Random Deletion), **RS** (Random Swap), **RI** (Random Insertion). \n",
        "\n",
        "You should complete all the functions in `eda.py` script, and you can test them with a simple testcase by running the following cell."
      ]
    },
    {
      "cell_type": "markdown",
      "source": [
        "- **Synonym Replacement (SR)**\n",
        "> In Synonym Replacement, we randomly replace some words in the sentence with their synonyms."
      ],
      "metadata": {
        "id": "djFbjk31AR0M"
      }
    },
    {
      "cell_type": "code",
      "source": [
        "import nltk\n",
        "nltk.download('stopwords')\n",
        "nltk.download('wordnet')\n",
        "  \n",
        "from nltk.corpus import wordnet"
      ],
      "metadata": {
        "id": "G2ZExbEb03IN",
        "colab": {
          "base_uri": "https://localhost:8080/"
        },
        "outputId": "012567dc-3dd5-4f6e-eef5-afeac96f2380"
      },
      "execution_count": 23,
      "outputs": [
        {
          "output_type": "stream",
          "name": "stderr",
          "text": [
            "[nltk_data] Downloading package stopwords to /root/nltk_data...\n",
            "[nltk_data]   Package stopwords is already up-to-date!\n",
            "[nltk_data] Downloading package wordnet to /root/nltk_data...\n"
          ]
        }
      ]
    },
    {
      "cell_type": "markdown",
      "source": [
        "You can test whether you get the synonyms right and see an example with synonym replacement."
      ],
      "metadata": {
        "id": "ZyJi-zYyIqsq"
      }
    },
    {
      "cell_type": "code",
      "source": [
        "from eda import get_synonyms\n",
        "from testA2 import test_get_synonyms\n",
        "\n",
        "test_get_synonyms(get_synonyms)"
      ],
      "metadata": {
        "id": "ZMRmcZtx81R4",
        "colab": {
          "base_uri": "https://localhost:8080/"
        },
        "outputId": "948f5613-828a-420d-e6e9-be90c26e3b9b"
      },
      "execution_count": 24,
      "outputs": [
        {
          "output_type": "stream",
          "name": "stdout",
          "text": [
            "The synonyms for the word \"task\" are:  ['chore', 'undertaking', 'project', 'labor', 'job', 'tax']\n"
          ]
        }
      ]
    },
    {
      "cell_type": "code",
      "source": [
        "from eda import synonym_replacement\n",
        "\n",
        "print(f\" Example of Synonym Replacement: {synonym_replacement('hey man how are you doing',3)}\")"
      ],
      "metadata": {
        "id": "AjFGy4DLFziY",
        "colab": {
          "base_uri": "https://localhost:8080/"
        },
        "outputId": "24f0a56f-2162-4bc4-8300-23e0f7f9b562"
      },
      "execution_count": 26,
      "outputs": [
        {
          "output_type": "stream",
          "name": "stdout",
          "text": [
            " Example of Synonym Replacement: hey humans how are you doing\n"
          ]
        }
      ]
    },
    {
      "cell_type": "markdown",
      "source": [
        "- **Random Deletion (RD)**\n",
        "\n",
        "> In Random Deletion, we randomly delete a word if a uniformly generated number between 0 and 1 is smaller than a pre-defined threshold. This allows for a random deletion of some words of the sentence."
      ],
      "metadata": {
        "id": "IfdHwyxaJXUn"
      }
    },
    {
      "cell_type": "code",
      "source": [
        "from eda import random_deletion\n",
        "\n",
        "print(f\" Example of Random Deletion: {random_deletion('hey man how are you doing', p=0.3, max_deletion_n=3)}\")"
      ],
      "metadata": {
        "id": "76bVm640Msa7",
        "colab": {
          "base_uri": "https://localhost:8080/"
        },
        "outputId": "9424c79a-ac07-4a8f-8ddb-c7f10465beb6"
      },
      "execution_count": 27,
      "outputs": [
        {
          "output_type": "stream",
          "name": "stdout",
          "text": [
            " Example of Random Deletion: hey man how are doing\n"
          ]
        }
      ]
    },
    {
      "cell_type": "markdown",
      "source": [
        "- **Random Swap (RS)**\n",
        "> In Random Swap, we randomly swap the order of two words in a sentence."
      ],
      "metadata": {
        "id": "Ajqx9cABNk5a"
      }
    },
    {
      "cell_type": "code",
      "source": [
        "from eda import swap_word\n",
        "\n",
        "print(f\" Example of Random Swap: {swap_word('hey man how are you doing')}\")"
      ],
      "metadata": {
        "id": "6Vuott-vQn6W",
        "colab": {
          "base_uri": "https://localhost:8080/"
        },
        "outputId": "9fc1d98f-ecb4-4c7f-fb9e-7ce73abff84d"
      },
      "execution_count": 28,
      "outputs": [
        {
          "output_type": "stream",
          "name": "stdout",
          "text": [
            " Example of Random Swap: are man how hey you doing\n"
          ]
        }
      ]
    },
    {
      "cell_type": "markdown",
      "source": [
        "- **Random Insertion (RI)**\n",
        "> Finally, in Random Insertion, we randomly insert synonyms of a word at a random position.\n",
        "> Data augmentation operations should not change the true label of a sentence, as that would introduce unnecessary noise into the data. Inserting a synonym of a word in a sentence, opposed to a random word, is more likely to be relevant to the context and retain the original label of the sentence."
      ],
      "metadata": {
        "id": "WSpcGqdfQ78_"
      }
    },
    {
      "cell_type": "code",
      "source": [
        "from eda import random_insertion\n",
        "\n",
        "print(f\" Example of Random Insertion: {random_insertion('hey man how are you doing', n=2)}\")"
      ],
      "metadata": {
        "id": "G5itS2lJRmvV",
        "colab": {
          "base_uri": "https://localhost:8080/"
        },
        "outputId": "84ad2903-0935-4526-87d4-c5aeb5376a3d"
      },
      "execution_count": 29,
      "outputs": [
        {
          "output_type": "stream",
          "name": "stdout",
          "text": [
            " Example of Random Insertion: hey man how are coif coif you doing\n"
          ]
        }
      ]
    },
    {
      "cell_type": "markdown",
      "metadata": {
        "id": "KGOlMl3n1SyJ"
      },
      "source": [
        "### **4.2 Augment Your Model**\n",
        "\n",
        "Combine all the functions you have implemented in 4.1, you can come up with your own data augmentation pipeline with various p and n ;)\n",
        "\n",
        "Next step is to expand the training data you used in Task1, re-train your model in 1.4 on your augmented data, and re-evaluate its performance on both the given validation set as well as on your manually annotated 100 test datapoints. \n",
        "\n",
        "Discuss the improvements that your data augmentation brings to your model. ***Include some examples of old vs. new model predictions to demonstrate the improvements.***\n",
        "\n",
        "**Warning: In terms of data size and training time control, we stipulate that your augmented training data should not be larger than 100M.** (Currently the training data train.jsonl is about 25M.)"
      ]
    },
    {
      "cell_type": "code",
      "source": [
        "def aug(sent,n,p):\n",
        "    print(f\" Original Sentence : {sent}\")\n",
        "    print(f\" SR Augmented Sentence : {synonym_replacement(sent, n)}\")\n",
        "    print(f\" RD Augmented Sentence : {random_deletion(sent, p, n)}\")\n",
        "    print(f\" RS Augmented Sentence : {swap_word(sent)}\")\n",
        "    print(f\" RI Augmented Sentence : {random_insertion(sent,n)}\")\n",
        "    \n",
        "aug('hey man how are you doing', p=0.2, n=2)"
      ],
      "metadata": {
        "id": "d0pTcUsYzsGZ",
        "colab": {
          "base_uri": "https://localhost:8080/"
        },
        "outputId": "77db71d5-d1c4-4690-d82b-eeceaa72c801"
      },
      "execution_count": 30,
      "outputs": [
        {
          "output_type": "stream",
          "name": "stdout",
          "text": [
            " Original Sentence : hey man how are you doing\n",
            " SR Augmented Sentence : hey gentleman how are you doing\n",
            " RD Augmented Sentence : hey man how are you\n",
            " RS Augmented Sentence : hey man how you are doing\n",
            " RI Augmented Sentence : hey man how mankind are you ar doing\n"
          ]
        }
      ]
    },
    {
      "cell_type": "markdown",
      "source": [
        "- Augment training dataset and Re-train your model"
      ],
      "metadata": {
        "id": "l-0U-CD323iY"
      }
    },
    {
      "cell_type": "code",
      "execution_count": 49,
      "metadata": {
        "id": "uExoah4O1ZCC",
        "colab": {
          "base_uri": "https://localhost:8080/"
        },
        "outputId": "8419fc59-7379-4c4c-cc84-bfb71a637318"
      },
      "outputs": [
        {
          "output_type": "stream",
          "name": "stderr",
          "text": [
            "98176it [40:37, 40.27it/s]\n"
          ]
        }
      ],
      "source": [
        "# fill your code here\n",
        "import random\n",
        "data_train_path = os.path.join(ROOT_PATH+'/nli_data', 'train.jsonl')\n",
        "data_augmented_path = os.path.join(ROOT_PATH+'/nli_data', 'train_augmented.jsonl')\n",
        "samples = []\n",
        "with jsonlines.open(data_augmented_path, \"w\", flush=True) as writer:\n",
        "  with jsonlines.open(data_train_path, \"r\") as reader:\n",
        "      for sid, sample in enumerate(tqdm(reader.iter())):\n",
        "        premise, hypothesis = sample['premise'], sample['hypothesis']\n",
        "        p = random.uniform(0, 1)\n",
        "        l = [len(premise.split()), len(hypothesis.split())]\n",
        "        n = [random.randint(1, l[0]), random.randint(1, l[1])]\n",
        "        augmentations_premise = [\n",
        "            synonym_replacement(premise, n[0]),\n",
        "            random_deletion(premise, p, n[0]),\n",
        "            random_insertion(premise, n[0])\n",
        "        ]\n",
        "        if len(premise.split()) > 1:\n",
        "          augmentations_premise.append(swap_word(premise))\n",
        "        \n",
        "\n",
        "        augmentations_hypothesis = [\n",
        "            synonym_replacement(hypothesis, n[1]),\n",
        "            random_deletion(hypothesis, p, n[1]),\n",
        "            random_insertion(hypothesis, n[1])\n",
        "        ]\n",
        "\n",
        "        if len(hypothesis.split()) > 1:\n",
        "          augmentations_hypothesis.append(swap_word(hypothesis))\n",
        "\n",
        "        writer.write(sample)\n",
        "\n",
        "        choices_premise = random.choices(range(min(4, len(augmentations_premise))), k=3)\n",
        "        choice_hypothesis = random.choices(range(min(4, len(augmentations_hypothesis))), k=3)\n",
        "        sample_new = sample.copy()\n",
        "        for a, b in zip(choices_premise, choice_hypothesis):\n",
        "          sample_new['premise'], sample_new['hypothesis'] = augmentations_premise[a], augmentations_hypothesis[b]\n",
        "          writer.write(sample_new)\n",
        "        \n",
        "  writer.close()"
      ]
    },
    {
      "cell_type": "code",
      "source": [
        "# sample train dataset by taking 10% of samples\n",
        "import random\n",
        "random.seed(42)\n",
        "data_train_path = os.path.join(ROOT_PATH+'/nli_data', 'train.jsonl')\n",
        "data_subset_path = os.path.join(ROOT_PATH+'/nli_data', 'train_subset.jsonl')\n",
        "with jsonlines.open(data_subset_path, \"w\", flush=True) as writer:\n",
        "  with jsonlines.open(data_train_path, \"r\") as reader:\n",
        "      for sid, sample in enumerate(tqdm(reader.iter())):\n",
        "        if random.uniform(0, 1) <= 0.1:\n",
        "          writer.write(sample)\n",
        "\n",
        "  writer.close()"
      ],
      "metadata": {
        "colab": {
          "base_uri": "https://localhost:8080/"
        },
        "id": "PWRqYlLfIFy6",
        "outputId": "4a6b6c65-d9d0-4e42-95e3-83415e18d4f2"
      },
      "execution_count": 56,
      "outputs": [
        {
          "output_type": "stream",
          "name": "stderr",
          "text": [
            "98176it [00:02, 41148.77it/s]\n"
          ]
        }
      ]
    },
    {
      "cell_type": "code",
      "source": [
        "# sample train + augmented dataset\n",
        "import random\n",
        "random.seed(4)\n",
        "data_train_subset_path = os.path.join(ROOT_PATH+'/nli_data', 'train_subset.jsonl')\n",
        "data_train_augmented_path = os.path.join(ROOT_PATH+'/nli_data', 'train_augmented.jsonl')\n",
        "data_subset_path = os.path.join(ROOT_PATH+'/nli_data', 'train_augmented_subset.jsonl')\n",
        "with jsonlines.open(data_subset_path, \"w\", flush=True) as writer:\n",
        "  with jsonlines.open(data_train_subset_path, \"r\") as reader:\n",
        "      for sid, sample in enumerate(tqdm(reader.iter())):\n",
        "        writer.write(sample)\n",
        "\n",
        "  with jsonlines.open(data_train_augmented_path, \"r\") as reader:\n",
        "      for sid, sample in enumerate(tqdm(reader.iter())):\n",
        "        if random.uniform(0, 1) <= 0.1:\n",
        "          writer.write(sample)\n",
        "\n",
        "  writer.close()"
      ],
      "metadata": {
        "colab": {
          "base_uri": "https://localhost:8080/"
        },
        "id": "KO6kYch8SDz2",
        "outputId": "714d1c13-8a8b-49d4-fb59-c0b3d058ba88"
      },
      "execution_count": 63,
      "outputs": [
        {
          "output_type": "stream",
          "name": "stderr",
          "text": [
            "9872it [00:01, 7825.43it/s]\n",
            "392704it [00:10, 36318.25it/s]\n"
          ]
        }
      ]
    },
    {
      "cell_type": "code",
      "source": [
        "random.seed(seed)\n",
        "np.random.seed(seed)\n",
        "torch.manual_seed(seed)\n",
        "\n",
        "device = torch.device(\"cuda:0\" if torch.cuda.is_available() else \"cpu\")\n",
        "\n",
        "model_name = \"distilbert-base-uncased\"\n",
        "tokenizer = DistilBertTokenizer.from_pretrained(model_name)\n",
        "model = DistilBertForSequenceClassification.from_pretrained(model_name, num_labels=3)\n",
        "model.to(device)\n",
        "\n",
        "train_dataset = NLIDataset(ROOT_PATH+\"/nli_data/train_subset.jsonl\", tokenizer)\n",
        "dev_dataset = NLIDataset(ROOT_PATH+\"/nli_data/dev_in_domain.jsonl\", tokenizer)\n",
        "\n",
        "batch_size = 16\n",
        "epochs = 4\n",
        "max_grad_norm = 1.0\n",
        "warmup_percent = 0.3\n",
        "model_save_root = ROOT_PATH+'/runs/task4/'\n",
        "\n",
        "learning_rate = 2e-5 # play around with this hyperparameter\n",
        "\n",
        "train(train_dataset, dev_dataset, model, device, batch_size, epochs,\n",
        "      learning_rate, warmup_percent, max_grad_norm, model_save_root, save_on_acc=True)"
      ],
      "metadata": {
        "colab": {
          "base_uri": "https://localhost:8080/"
        },
        "id": "NQiICo7TPZTv",
        "outputId": "524c0760-c77e-40bf-ec49-f1b863bae5f8"
      },
      "execution_count": 51,
      "outputs": [
        {
          "output_type": "stream",
          "name": "stderr",
          "text": [
            "Some weights of the model checkpoint at distilbert-base-uncased were not used when initializing DistilBertForSequenceClassification: ['vocab_layer_norm.weight', 'vocab_transform.bias', 'vocab_transform.weight', 'vocab_projector.weight', 'vocab_projector.bias', 'vocab_layer_norm.bias']\n",
            "- This IS expected if you are initializing DistilBertForSequenceClassification from the checkpoint of a model trained on another task or with another architecture (e.g. initializing a BertForSequenceClassification model from a BertForPreTraining model).\n",
            "- This IS NOT expected if you are initializing DistilBertForSequenceClassification from the checkpoint of a model that you expect to be exactly identical (initializing a BertForSequenceClassification model from a BertForSequenceClassification model).\n",
            "Some weights of DistilBertForSequenceClassification were not initialized from the model checkpoint at distilbert-base-uncased and are newly initialized: ['pre_classifier.weight', 'classifier.bias', 'classifier.weight', 'pre_classifier.bias']\n",
            "You should probably TRAIN this model on a down-stream task to be able to use it for predictions and inference.\n"
          ]
        },
        {
          "output_type": "stream",
          "name": "stdout",
          "text": [
            "Building NLI Dataset...\n"
          ]
        },
        {
          "output_type": "stream",
          "name": "stderr",
          "text": [
            "9872it [00:08, 1151.61it/s]\n"
          ]
        },
        {
          "output_type": "stream",
          "name": "stdout",
          "text": [
            "Building NLI Dataset...\n"
          ]
        },
        {
          "output_type": "stream",
          "name": "stderr",
          "text": [
            "9815it [00:10, 925.21it/s] \n",
            "Training: 100%|██████████| 617/617 [01:19<00:00,  7.74it/s]\n",
            "Evaluation: 100%|██████████| 614/614 [00:25<00:00, 24.29it/s]\n",
            "/content/drive/MyDrive/NLP/A2/nli.py:177: RuntimeWarning: invalid value encountered in true_divide\n",
            "  precision = tps / (tps + fps)\n"
          ]
        },
        {
          "output_type": "stream",
          "name": "stdout",
          "text": [
            "Epoch: 0 | Training Loss: 0.773 | Validation Loss: 0.643\n",
            "Epoch 0 NLI Validation:\n",
            "Accuracy: 41.33% | F1: (nan%, 49.09%, 52.14%) | Macro-F1: nan%\n",
            "here\n",
            "Model Saved!\n"
          ]
        },
        {
          "output_type": "stream",
          "name": "stderr",
          "text": [
            "Training: 100%|██████████| 617/617 [01:18<00:00,  7.89it/s]\n",
            "Evaluation: 100%|██████████| 614/614 [00:25<00:00, 24.42it/s]\n"
          ]
        },
        {
          "output_type": "stream",
          "name": "stdout",
          "text": [
            "Epoch: 1 | Training Loss: 0.573 | Validation Loss: 0.541\n",
            "Epoch 1 NLI Validation:\n",
            "Accuracy: 46.78% | F1: (nan%, 55.20%, 58.21%) | Macro-F1: nan%\n",
            "here\n",
            "Model Saved!\n"
          ]
        },
        {
          "output_type": "stream",
          "name": "stderr",
          "text": [
            "Training: 100%|██████████| 617/617 [01:18<00:00,  7.84it/s]\n",
            "Evaluation: 100%|██████████| 614/614 [00:24<00:00, 24.56it/s]\n"
          ]
        },
        {
          "output_type": "stream",
          "name": "stdout",
          "text": [
            "Epoch: 2 | Training Loss: 0.318 | Validation Loss: 0.659\n",
            "Epoch 2 NLI Validation:\n",
            "Accuracy: 47.78% | F1: (nan%, 56.95%, 59.16%) | Macro-F1: nan%\n",
            "here\n",
            "Model Saved!\n"
          ]
        },
        {
          "output_type": "stream",
          "name": "stderr",
          "text": [
            "Training: 100%|██████████| 617/617 [01:18<00:00,  7.85it/s]\n",
            "Evaluation: 100%|██████████| 614/614 [00:25<00:00, 24.47it/s]\n"
          ]
        },
        {
          "output_type": "stream",
          "name": "stdout",
          "text": [
            "Epoch: 3 | Training Loss: 0.113 | Validation Loss: 1.262\n",
            "Epoch 3 NLI Validation:\n",
            "Accuracy: 48.25% | F1: (nan%, 57.28%, 60.19%) | Macro-F1: nan%\n",
            "here\n",
            "Model Saved!\n"
          ]
        }
      ]
    },
    {
      "cell_type": "code",
      "source": [
        "random.seed(seed)\n",
        "np.random.seed(seed)\n",
        "torch.manual_seed(seed)\n",
        "\n",
        "device = torch.device(\"cuda:0\" if torch.cuda.is_available() else \"cpu\")\n",
        "\n",
        "model_name = \"distilbert-base-uncased\"\n",
        "tokenizer = DistilBertTokenizer.from_pretrained(model_name)\n",
        "model = DistilBertForSequenceClassification.from_pretrained(model_name, num_labels=3)\n",
        "model.to(device)\n",
        "\n",
        "train_dataset = NLIDataset(ROOT_PATH+\"/nli_data/train_augmented_subset.jsonl\", tokenizer)\n",
        "dev_dataset = NLIDataset(ROOT_PATH+\"/nli_data/dev_in_domain.jsonl\", tokenizer)\n",
        "\n",
        "batch_size = 16\n",
        "epochs = 4\n",
        "max_grad_norm = 1.0\n",
        "warmup_percent = 0.3\n",
        "model_save_root = ROOT_PATH+'/runs/task4/4.2/'\n",
        "\n",
        "learning_rate = 2e-5 # play around with this hyperparameter\n",
        "\n",
        "train(train_dataset, dev_dataset, model, device, batch_size, epochs,\n",
        "      learning_rate, warmup_percent, max_grad_norm, model_save_root, save_on_acc=True)"
      ],
      "metadata": {
        "colab": {
          "base_uri": "https://localhost:8080/"
        },
        "id": "GP87tkWgUJRH",
        "outputId": "6981ed3f-4867-4c2e-db9d-1ce9f9b68ef8"
      },
      "execution_count": 18,
      "outputs": [
        {
          "metadata": {
            "tags": null
          },
          "name": "stderr",
          "output_type": "stream",
          "text": [
            "Some weights of the model checkpoint at distilbert-base-uncased were not used when initializing DistilBertForSequenceClassification: ['vocab_transform.weight', 'vocab_projector.bias', 'vocab_layer_norm.bias', 'vocab_transform.bias', 'vocab_layer_norm.weight', 'vocab_projector.weight']\n",
            "- This IS expected if you are initializing DistilBertForSequenceClassification from the checkpoint of a model trained on another task or with another architecture (e.g. initializing a BertForSequenceClassification model from a BertForPreTraining model).\n",
            "- This IS NOT expected if you are initializing DistilBertForSequenceClassification from the checkpoint of a model that you expect to be exactly identical (initializing a BertForSequenceClassification model from a BertForSequenceClassification model).\n",
            "Some weights of DistilBertForSequenceClassification were not initialized from the model checkpoint at distilbert-base-uncased and are newly initialized: ['classifier.bias', 'classifier.weight', 'pre_classifier.weight', 'pre_classifier.bias']\n",
            "You should probably TRAIN this model on a down-stream task to be able to use it for predictions and inference.\n"
          ]
        },
        {
          "metadata": {
            "tags": null
          },
          "name": "stdout",
          "output_type": "stream",
          "text": [
            "Building NLI Dataset...\n"
          ]
        },
        {
          "metadata": {
            "tags": null
          },
          "name": "stderr",
          "output_type": "stream",
          "text": [
            "13455it [00:12, 1214.45it/s]"
          ]
        },
        {
          "metadata": {
            "tags": null
          },
          "name": "stdout",
          "output_type": "stream",
          "text": [
            "expected string or bytes-like object\n"
          ]
        },
        {
          "metadata": {
            "tags": null
          },
          "name": "stderr",
          "output_type": "stream",
          "text": [
            "13937it [00:13, 1120.50it/s]"
          ]
        },
        {
          "metadata": {
            "tags": null
          },
          "name": "stdout",
          "output_type": "stream",
          "text": [
            "expected string or bytes-like object\n"
          ]
        },
        {
          "metadata": {
            "tags": null
          },
          "name": "stderr",
          "output_type": "stream",
          "text": [
            "15598it [00:14, 669.41it/s]"
          ]
        },
        {
          "metadata": {
            "tags": null
          },
          "name": "stdout",
          "output_type": "stream",
          "text": [
            "expected string or bytes-like object\n"
          ]
        },
        {
          "metadata": {
            "tags": null
          },
          "name": "stderr",
          "output_type": "stream",
          "text": [
            "16388it [00:16, 610.07it/s]"
          ]
        },
        {
          "metadata": {
            "tags": null
          },
          "name": "stdout",
          "output_type": "stream",
          "text": [
            "expected string or bytes-like object\n"
          ]
        },
        {
          "metadata": {
            "tags": null
          },
          "name": "stderr",
          "output_type": "stream",
          "text": [
            "16654it [00:16, 658.36it/s]"
          ]
        },
        {
          "metadata": {
            "tags": null
          },
          "name": "stdout",
          "output_type": "stream",
          "text": [
            "expected string or bytes-like object\n"
          ]
        },
        {
          "metadata": {
            "tags": null
          },
          "name": "stderr",
          "output_type": "stream",
          "text": [
            "23071it [00:26, 1170.40it/s]"
          ]
        },
        {
          "metadata": {
            "tags": null
          },
          "name": "stdout",
          "output_type": "stream",
          "text": [
            "expected string or bytes-like object\n"
          ]
        },
        {
          "metadata": {
            "tags": null
          },
          "name": "stderr",
          "output_type": "stream",
          "text": [
            "24174it [00:27, 1180.66it/s]"
          ]
        },
        {
          "metadata": {
            "tags": null
          },
          "name": "stdout",
          "output_type": "stream",
          "text": [
            "expected string or bytes-like object\n"
          ]
        },
        {
          "metadata": {
            "tags": null
          },
          "name": "stderr",
          "output_type": "stream",
          "text": [
            "24420it [00:27, 1161.87it/s]"
          ]
        },
        {
          "metadata": {
            "tags": null
          },
          "name": "stdout",
          "output_type": "stream",
          "text": [
            "expected string or bytes-like object\n"
          ]
        },
        {
          "metadata": {
            "tags": null
          },
          "name": "stderr",
          "output_type": "stream",
          "text": [
            "27158it [00:30, 1182.32it/s]"
          ]
        },
        {
          "metadata": {
            "tags": null
          },
          "name": "stdout",
          "output_type": "stream",
          "text": [
            "expected string or bytes-like object\n"
          ]
        },
        {
          "metadata": {
            "tags": null
          },
          "name": "stderr",
          "output_type": "stream",
          "text": [
            "28570it [00:31, 763.94it/s]"
          ]
        },
        {
          "metadata": {
            "tags": null
          },
          "name": "stdout",
          "output_type": "stream",
          "text": [
            "expected string or bytes-like object\n"
          ]
        },
        {
          "metadata": {
            "tags": null
          },
          "name": "stderr",
          "output_type": "stream",
          "text": [
            "29196it [00:32, 612.67it/s]"
          ]
        },
        {
          "metadata": {
            "tags": null
          },
          "name": "stdout",
          "output_type": "stream",
          "text": [
            "expected string or bytes-like object\n"
          ]
        },
        {
          "metadata": {
            "tags": null
          },
          "name": "stderr",
          "output_type": "stream",
          "text": [
            "30346it [00:34, 611.51it/s]"
          ]
        },
        {
          "metadata": {
            "tags": null
          },
          "name": "stdout",
          "output_type": "stream",
          "text": [
            "expected string or bytes-like object\n",
            "expected string or bytes-like object\n"
          ]
        },
        {
          "metadata": {
            "tags": null
          },
          "name": "stderr",
          "output_type": "stream",
          "text": [
            "31069it [00:35, 628.83it/s]"
          ]
        },
        {
          "metadata": {
            "tags": null
          },
          "name": "stdout",
          "output_type": "stream",
          "text": [
            "expected string or bytes-like object\n"
          ]
        },
        {
          "metadata": {
            "tags": null
          },
          "name": "stderr",
          "output_type": "stream",
          "text": [
            "32964it [00:38, 1161.74it/s]"
          ]
        },
        {
          "metadata": {
            "tags": null
          },
          "name": "stdout",
          "output_type": "stream",
          "text": [
            "expected string or bytes-like object\n"
          ]
        },
        {
          "metadata": {
            "tags": null
          },
          "name": "stderr",
          "output_type": "stream",
          "text": [
            "34165it [00:39, 1147.35it/s]"
          ]
        },
        {
          "metadata": {
            "tags": null
          },
          "name": "stdout",
          "output_type": "stream",
          "text": [
            "expected string or bytes-like object\n"
          ]
        },
        {
          "metadata": {
            "tags": null
          },
          "name": "stderr",
          "output_type": "stream",
          "text": [
            "34406it [00:39, 1175.51it/s]"
          ]
        },
        {
          "metadata": {
            "tags": null
          },
          "name": "stdout",
          "output_type": "stream",
          "text": [
            "expected string or bytes-like object\n",
            "expected string or bytes-like object\n"
          ]
        },
        {
          "metadata": {
            "tags": null
          },
          "name": "stderr",
          "output_type": "stream",
          "text": [
            "36939it [00:41, 1229.41it/s]"
          ]
        },
        {
          "metadata": {
            "tags": null
          },
          "name": "stdout",
          "output_type": "stream",
          "text": [
            "expected string or bytes-like object\n"
          ]
        },
        {
          "metadata": {
            "tags": null
          },
          "name": "stderr",
          "output_type": "stream",
          "text": [
            "41375it [00:45, 1168.54it/s]"
          ]
        },
        {
          "metadata": {
            "tags": null
          },
          "name": "stdout",
          "output_type": "stream",
          "text": [
            "expected string or bytes-like object\n"
          ]
        },
        {
          "metadata": {
            "tags": null
          },
          "name": "stderr",
          "output_type": "stream",
          "text": [
            "41995it [00:45, 1210.49it/s]"
          ]
        },
        {
          "metadata": {
            "tags": null
          },
          "name": "stdout",
          "output_type": "stream",
          "text": [
            "expected string or bytes-like object\n"
          ]
        },
        {
          "metadata": {
            "tags": null
          },
          "name": "stderr",
          "output_type": "stream",
          "text": [
            "44183it [00:47, 1196.29it/s]"
          ]
        },
        {
          "metadata": {
            "tags": null
          },
          "name": "stdout",
          "output_type": "stream",
          "text": [
            "expected string or bytes-like object\n"
          ]
        },
        {
          "metadata": {
            "tags": null
          },
          "name": "stderr",
          "output_type": "stream",
          "text": [
            "44680it [00:48, 712.74it/s]"
          ]
        },
        {
          "metadata": {
            "tags": null
          },
          "name": "stdout",
          "output_type": "stream",
          "text": [
            "expected string or bytes-like object\n"
          ]
        },
        {
          "metadata": {
            "tags": null
          },
          "name": "stderr",
          "output_type": "stream",
          "text": [
            "45300it [00:49, 627.23it/s]"
          ]
        },
        {
          "metadata": {
            "tags": null
          },
          "name": "stdout",
          "output_type": "stream",
          "text": [
            "expected string or bytes-like object\n"
          ]
        },
        {
          "metadata": {
            "tags": null
          },
          "name": "stderr",
          "output_type": "stream",
          "text": [
            "45499it [00:49, 626.88it/s]"
          ]
        },
        {
          "metadata": {
            "tags": null
          },
          "name": "stdout",
          "output_type": "stream",
          "text": [
            "expected string or bytes-like object\n"
          ]
        },
        {
          "metadata": {
            "tags": null
          },
          "name": "stderr",
          "output_type": "stream",
          "text": [
            "48137it [00:53, 654.82it/s]"
          ]
        },
        {
          "metadata": {
            "tags": null
          },
          "name": "stdout",
          "output_type": "stream",
          "text": [
            "expected string or bytes-like object\n",
            "expected string or bytes-like object\n"
          ]
        },
        {
          "metadata": {
            "tags": null
          },
          "name": "stderr",
          "output_type": "stream",
          "text": [
            "49020it [00:54, 896.36it/s] \n"
          ]
        },
        {
          "metadata": {
            "tags": null
          },
          "name": "stdout",
          "output_type": "stream",
          "text": [
            "Building NLI Dataset...\n"
          ]
        },
        {
          "metadata": {
            "tags": null
          },
          "name": "stderr",
          "output_type": "stream",
          "text": [
            "9815it [00:07, 1291.78it/s]\n",
            "/usr/local/lib/python3.9/dist-packages/transformers/optimization.py:306: FutureWarning: This implementation of AdamW is deprecated and will be removed in a future version. Use the PyTorch implementation torch.optim.AdamW instead, or set `no_deprecation_warning=True` to disable this warning\n",
            "  warnings.warn(\n",
            "Training: 100%|██████████| 3063/3063 [07:15<00:00,  7.03it/s]\n",
            "Evaluation: 100%|██████████| 614/614 [00:23<00:00, 25.64it/s]\n",
            "/content/drive/MyDrive/NLP/A2/nli.py:177: RuntimeWarning: invalid value encountered in true_divide\n",
            "  precision = tps / (tps + fps)\n"
          ]
        },
        {
          "metadata": {
            "tags": null
          },
          "name": "stdout",
          "output_type": "stream",
          "text": [
            "Epoch: 0 | Training Loss: nan | Validation Loss: 0.531\n",
            "Epoch 0 NLI Validation:\n",
            "Accuracy: 47.38% | F1: (nan%, 57.04%, 58.36%) | Macro-F1: nan%\n",
            "here\n",
            "Model Saved!\n"
          ]
        },
        {
          "output_type": "stream",
          "name": "stderr",
          "text": [
            "Training: 100%|██████████| 3063/3063 [07:09<00:00,  7.14it/s]\n",
            "Evaluation: 100%|██████████| 614/614 [00:23<00:00, 26.68it/s]\n"
          ]
        },
        {
          "output_type": "stream",
          "name": "stdout",
          "text": [
            "Epoch: 1 | Training Loss: nan | Validation Loss: 0.488\n",
            "Epoch 1 NLI Validation:\n",
            "Accuracy: 49.72% | F1: (nan%, 60.52%, 60.34%) | Macro-F1: nan%\n",
            "here\n",
            "Model Saved!\n"
          ]
        },
        {
          "output_type": "stream",
          "name": "stderr",
          "text": [
            "Training: 100%|██████████| 3063/3063 [07:09<00:00,  7.13it/s]\n",
            "Evaluation: 100%|██████████| 614/614 [00:23<00:00, 26.61it/s]\n"
          ]
        },
        {
          "output_type": "stream",
          "name": "stdout",
          "text": [
            "Epoch: 2 | Training Loss: nan | Validation Loss: 0.745\n",
            "Epoch 2 NLI Validation:\n",
            "Accuracy: 49.76% | F1: (nan%, 58.16%, 63.04%) | Macro-F1: nan%\n",
            "here\n",
            "Model Saved!\n"
          ]
        },
        {
          "output_type": "stream",
          "name": "stderr",
          "text": [
            "Training: 100%|██████████| 3063/3063 [07:09<00:00,  7.12it/s]\n",
            "Evaluation: 100%|██████████| 614/614 [00:23<00:00, 26.47it/s]\n"
          ]
        },
        {
          "output_type": "stream",
          "name": "stdout",
          "text": [
            "Epoch: 3 | Training Loss: nan | Validation Loss: 1.134\n",
            "Epoch 3 NLI Validation:\n",
            "Accuracy: 49.69% | F1: (nan%, 57.65%, 63.21%) | Macro-F1: nan%\n",
            "here\n"
          ]
        }
      ]
    },
    {
      "cell_type": "markdown",
      "source": [
        "## Observation regarding Task 4.2\n",
        "We follow the following procedure in task 4.2\n",
        "- We first sample a subset of the original training dataset by taking 10% of the data. \n",
        "- Then we take 10% of the augmented dataset + the training dataset used in step 1 and train the model on this. \n",
        "- We observe that the model trained in step 1 is less accurate than the model trained in step 2. \n",
        "- This is expected since the data in step 2 is more than the data used in step 1. With this experiment we can conclude that data augmentation is helpful in the low resource scenarios. \n",
        "- This difference is especially most apparent in the first epoch, where the difference between the accuracy of model trained in step 1 and step 2 is very large. "
      ],
      "metadata": {
        "id": "P-yFBCtwcInQ"
      }
    },
    {
      "cell_type": "markdown",
      "metadata": {
        "id": "M3CIeN_kaOQl"
      },
      "source": [
        "### **5 Upload Your Notebook, Data and Models**\n",
        "\n",
        "Please **rename** your filled jupyter notebook as **your Sciper number** and upload it to your GitHub Classroom repository, **with all cells run and output results shown**.\n",
        "\n",
        "**Note:** We are **not** responsible for re-running the cells in your notebook.\n",
        "\n",
        "Please also submit all your processed (e.g., anotated and augmented) datasets, as well as all your trained models in Task 1 and Task 4, in your GitHub Classroom repository.\n",
        "\n",
        "The datasets and models that you need to submit include:\n",
        "\n",
        "**1. The best model checkpoint you trained in the Section 1.2 \"Start Training and Validation!\"**\n",
        "\n",
        "**2. The best model prediction results in the Section 1.2 \"Fine-Grained Validation\"**\n",
        "\n",
        "**3. Your annotated test dataset in the Section 3.2 \"Annotate Your 100 Datapoints with Partner(s)\"**\n",
        "\n",
        "**4. Your augmented training data and best model checkpoint in the Section 4.2 \"Augment Your Model\"**\n",
        "\n",
        "**Note:** You may need to use [GitHub LFS](https://edstem.org/eu/courses/379/discussion/27240) for submitting large files."
      ]
    },
    {
      "cell_type": "markdown",
      "source": [
        "**Note**: For task 4, as described above, I trained on a subset of the data. The following files are present in the `nli_data` folder:\n",
        "- train_augmented.jsonl: This file contains the data augmented for the whole original training dataset (i.e. the 25M dataset). The size of this dataset is 100M as suggested in the notebook.\n",
        "- train_subset.jsonl: This is a subset of the training dataset, containing randomly sampled 10% of the samples from the original training data\n",
        "- train_augmented_subset.jsonl: This is a subset of the augmnented dataset, namely `train_augmented.jsonl`. I sampled 10% of the data randomly from the `train_augmented.jsonl` file. "
      ],
      "metadata": {
        "id": "Bcse3wx12hRf"
      }
    }
  ],
  "metadata": {
    "colab": {
      "provenance": [],
      "collapsed_sections": [
        "9MSpYuMcyHfl"
      ]
    },
    "gpuClass": "standard",
    "kernelspec": {
      "display_name": "Python 3 (ipykernel)",
      "language": "python",
      "name": "python3"
    },
    "language_info": {
      "codemirror_mode": {
        "name": "ipython",
        "version": 3
      },
      "file_extension": ".py",
      "mimetype": "text/x-python",
      "name": "python",
      "nbconvert_exporter": "python",
      "pygments_lexer": "ipython3",
      "version": "3.10.9"
    },
    "accelerator": "GPU",
    "widgets": {
      "application/vnd.jupyter.widget-state+json": {
        "7076da328b8c489d9e19e9eb0c4f6761": {
          "model_module": "@jupyter-widgets/controls",
          "model_name": "HBoxModel",
          "model_module_version": "1.5.0",
          "state": {
            "_dom_classes": [],
            "_model_module": "@jupyter-widgets/controls",
            "_model_module_version": "1.5.0",
            "_model_name": "HBoxModel",
            "_view_count": null,
            "_view_module": "@jupyter-widgets/controls",
            "_view_module_version": "1.5.0",
            "_view_name": "HBoxView",
            "box_style": "",
            "children": [
              "IPY_MODEL_a9ed8f8bc9ee4a0e8520e1fdbe795194",
              "IPY_MODEL_6d0b15e95b1f4a17a28df7f9830998fe",
              "IPY_MODEL_341838c5de294781af89f2c1fb31780d"
            ],
            "layout": "IPY_MODEL_1f30d45be52640009826b6a0f67b2ca2"
          }
        },
        "a9ed8f8bc9ee4a0e8520e1fdbe795194": {
          "model_module": "@jupyter-widgets/controls",
          "model_name": "HTMLModel",
          "model_module_version": "1.5.0",
          "state": {
            "_dom_classes": [],
            "_model_module": "@jupyter-widgets/controls",
            "_model_module_version": "1.5.0",
            "_model_name": "HTMLModel",
            "_view_count": null,
            "_view_module": "@jupyter-widgets/controls",
            "_view_module_version": "1.5.0",
            "_view_name": "HTMLView",
            "description": "",
            "description_tooltip": null,
            "layout": "IPY_MODEL_8e11a44a6b484fb0bec5df8075317708",
            "placeholder": "​",
            "style": "IPY_MODEL_291bc9153265426e94e3554d80e61e2b",
            "value": "Downloading (…)solve/main/vocab.txt: 100%"
          }
        },
        "6d0b15e95b1f4a17a28df7f9830998fe": {
          "model_module": "@jupyter-widgets/controls",
          "model_name": "FloatProgressModel",
          "model_module_version": "1.5.0",
          "state": {
            "_dom_classes": [],
            "_model_module": "@jupyter-widgets/controls",
            "_model_module_version": "1.5.0",
            "_model_name": "FloatProgressModel",
            "_view_count": null,
            "_view_module": "@jupyter-widgets/controls",
            "_view_module_version": "1.5.0",
            "_view_name": "ProgressView",
            "bar_style": "success",
            "description": "",
            "description_tooltip": null,
            "layout": "IPY_MODEL_a093eed63e8341abb660eeb80574ca94",
            "max": 231508,
            "min": 0,
            "orientation": "horizontal",
            "style": "IPY_MODEL_a5493afd5a7043f18e1af59fd8e1aeec",
            "value": 231508
          }
        },
        "341838c5de294781af89f2c1fb31780d": {
          "model_module": "@jupyter-widgets/controls",
          "model_name": "HTMLModel",
          "model_module_version": "1.5.0",
          "state": {
            "_dom_classes": [],
            "_model_module": "@jupyter-widgets/controls",
            "_model_module_version": "1.5.0",
            "_model_name": "HTMLModel",
            "_view_count": null,
            "_view_module": "@jupyter-widgets/controls",
            "_view_module_version": "1.5.0",
            "_view_name": "HTMLView",
            "description": "",
            "description_tooltip": null,
            "layout": "IPY_MODEL_cf04061afe5d4c458c000ed633d46878",
            "placeholder": "​",
            "style": "IPY_MODEL_229dba4c0ed042ccabf17a802abde4bc",
            "value": " 232k/232k [00:00&lt;00:00, 4.28MB/s]"
          }
        },
        "1f30d45be52640009826b6a0f67b2ca2": {
          "model_module": "@jupyter-widgets/base",
          "model_name": "LayoutModel",
          "model_module_version": "1.2.0",
          "state": {
            "_model_module": "@jupyter-widgets/base",
            "_model_module_version": "1.2.0",
            "_model_name": "LayoutModel",
            "_view_count": null,
            "_view_module": "@jupyter-widgets/base",
            "_view_module_version": "1.2.0",
            "_view_name": "LayoutView",
            "align_content": null,
            "align_items": null,
            "align_self": null,
            "border": null,
            "bottom": null,
            "display": null,
            "flex": null,
            "flex_flow": null,
            "grid_area": null,
            "grid_auto_columns": null,
            "grid_auto_flow": null,
            "grid_auto_rows": null,
            "grid_column": null,
            "grid_gap": null,
            "grid_row": null,
            "grid_template_areas": null,
            "grid_template_columns": null,
            "grid_template_rows": null,
            "height": null,
            "justify_content": null,
            "justify_items": null,
            "left": null,
            "margin": null,
            "max_height": null,
            "max_width": null,
            "min_height": null,
            "min_width": null,
            "object_fit": null,
            "object_position": null,
            "order": null,
            "overflow": null,
            "overflow_x": null,
            "overflow_y": null,
            "padding": null,
            "right": null,
            "top": null,
            "visibility": null,
            "width": null
          }
        },
        "8e11a44a6b484fb0bec5df8075317708": {
          "model_module": "@jupyter-widgets/base",
          "model_name": "LayoutModel",
          "model_module_version": "1.2.0",
          "state": {
            "_model_module": "@jupyter-widgets/base",
            "_model_module_version": "1.2.0",
            "_model_name": "LayoutModel",
            "_view_count": null,
            "_view_module": "@jupyter-widgets/base",
            "_view_module_version": "1.2.0",
            "_view_name": "LayoutView",
            "align_content": null,
            "align_items": null,
            "align_self": null,
            "border": null,
            "bottom": null,
            "display": null,
            "flex": null,
            "flex_flow": null,
            "grid_area": null,
            "grid_auto_columns": null,
            "grid_auto_flow": null,
            "grid_auto_rows": null,
            "grid_column": null,
            "grid_gap": null,
            "grid_row": null,
            "grid_template_areas": null,
            "grid_template_columns": null,
            "grid_template_rows": null,
            "height": null,
            "justify_content": null,
            "justify_items": null,
            "left": null,
            "margin": null,
            "max_height": null,
            "max_width": null,
            "min_height": null,
            "min_width": null,
            "object_fit": null,
            "object_position": null,
            "order": null,
            "overflow": null,
            "overflow_x": null,
            "overflow_y": null,
            "padding": null,
            "right": null,
            "top": null,
            "visibility": null,
            "width": null
          }
        },
        "291bc9153265426e94e3554d80e61e2b": {
          "model_module": "@jupyter-widgets/controls",
          "model_name": "DescriptionStyleModel",
          "model_module_version": "1.5.0",
          "state": {
            "_model_module": "@jupyter-widgets/controls",
            "_model_module_version": "1.5.0",
            "_model_name": "DescriptionStyleModel",
            "_view_count": null,
            "_view_module": "@jupyter-widgets/base",
            "_view_module_version": "1.2.0",
            "_view_name": "StyleView",
            "description_width": ""
          }
        },
        "a093eed63e8341abb660eeb80574ca94": {
          "model_module": "@jupyter-widgets/base",
          "model_name": "LayoutModel",
          "model_module_version": "1.2.0",
          "state": {
            "_model_module": "@jupyter-widgets/base",
            "_model_module_version": "1.2.0",
            "_model_name": "LayoutModel",
            "_view_count": null,
            "_view_module": "@jupyter-widgets/base",
            "_view_module_version": "1.2.0",
            "_view_name": "LayoutView",
            "align_content": null,
            "align_items": null,
            "align_self": null,
            "border": null,
            "bottom": null,
            "display": null,
            "flex": null,
            "flex_flow": null,
            "grid_area": null,
            "grid_auto_columns": null,
            "grid_auto_flow": null,
            "grid_auto_rows": null,
            "grid_column": null,
            "grid_gap": null,
            "grid_row": null,
            "grid_template_areas": null,
            "grid_template_columns": null,
            "grid_template_rows": null,
            "height": null,
            "justify_content": null,
            "justify_items": null,
            "left": null,
            "margin": null,
            "max_height": null,
            "max_width": null,
            "min_height": null,
            "min_width": null,
            "object_fit": null,
            "object_position": null,
            "order": null,
            "overflow": null,
            "overflow_x": null,
            "overflow_y": null,
            "padding": null,
            "right": null,
            "top": null,
            "visibility": null,
            "width": null
          }
        },
        "a5493afd5a7043f18e1af59fd8e1aeec": {
          "model_module": "@jupyter-widgets/controls",
          "model_name": "ProgressStyleModel",
          "model_module_version": "1.5.0",
          "state": {
            "_model_module": "@jupyter-widgets/controls",
            "_model_module_version": "1.5.0",
            "_model_name": "ProgressStyleModel",
            "_view_count": null,
            "_view_module": "@jupyter-widgets/base",
            "_view_module_version": "1.2.0",
            "_view_name": "StyleView",
            "bar_color": null,
            "description_width": ""
          }
        },
        "cf04061afe5d4c458c000ed633d46878": {
          "model_module": "@jupyter-widgets/base",
          "model_name": "LayoutModel",
          "model_module_version": "1.2.0",
          "state": {
            "_model_module": "@jupyter-widgets/base",
            "_model_module_version": "1.2.0",
            "_model_name": "LayoutModel",
            "_view_count": null,
            "_view_module": "@jupyter-widgets/base",
            "_view_module_version": "1.2.0",
            "_view_name": "LayoutView",
            "align_content": null,
            "align_items": null,
            "align_self": null,
            "border": null,
            "bottom": null,
            "display": null,
            "flex": null,
            "flex_flow": null,
            "grid_area": null,
            "grid_auto_columns": null,
            "grid_auto_flow": null,
            "grid_auto_rows": null,
            "grid_column": null,
            "grid_gap": null,
            "grid_row": null,
            "grid_template_areas": null,
            "grid_template_columns": null,
            "grid_template_rows": null,
            "height": null,
            "justify_content": null,
            "justify_items": null,
            "left": null,
            "margin": null,
            "max_height": null,
            "max_width": null,
            "min_height": null,
            "min_width": null,
            "object_fit": null,
            "object_position": null,
            "order": null,
            "overflow": null,
            "overflow_x": null,
            "overflow_y": null,
            "padding": null,
            "right": null,
            "top": null,
            "visibility": null,
            "width": null
          }
        },
        "229dba4c0ed042ccabf17a802abde4bc": {
          "model_module": "@jupyter-widgets/controls",
          "model_name": "DescriptionStyleModel",
          "model_module_version": "1.5.0",
          "state": {
            "_model_module": "@jupyter-widgets/controls",
            "_model_module_version": "1.5.0",
            "_model_name": "DescriptionStyleModel",
            "_view_count": null,
            "_view_module": "@jupyter-widgets/base",
            "_view_module_version": "1.2.0",
            "_view_name": "StyleView",
            "description_width": ""
          }
        },
        "e65afac03de64bdcbb27c4e15060dc36": {
          "model_module": "@jupyter-widgets/controls",
          "model_name": "HBoxModel",
          "model_module_version": "1.5.0",
          "state": {
            "_dom_classes": [],
            "_model_module": "@jupyter-widgets/controls",
            "_model_module_version": "1.5.0",
            "_model_name": "HBoxModel",
            "_view_count": null,
            "_view_module": "@jupyter-widgets/controls",
            "_view_module_version": "1.5.0",
            "_view_name": "HBoxView",
            "box_style": "",
            "children": [
              "IPY_MODEL_ac033b7fd84943ac8b90b3eb39bd8460",
              "IPY_MODEL_19c6e6cae56d4439bf3afd922354fd8c",
              "IPY_MODEL_c2fea0f33e244e1a8b135e77020e6ede"
            ],
            "layout": "IPY_MODEL_a44a35cf440043c68e61995a633ce093"
          }
        },
        "ac033b7fd84943ac8b90b3eb39bd8460": {
          "model_module": "@jupyter-widgets/controls",
          "model_name": "HTMLModel",
          "model_module_version": "1.5.0",
          "state": {
            "_dom_classes": [],
            "_model_module": "@jupyter-widgets/controls",
            "_model_module_version": "1.5.0",
            "_model_name": "HTMLModel",
            "_view_count": null,
            "_view_module": "@jupyter-widgets/controls",
            "_view_module_version": "1.5.0",
            "_view_name": "HTMLView",
            "description": "",
            "description_tooltip": null,
            "layout": "IPY_MODEL_0e12a32df00d4345973b4569314c7979",
            "placeholder": "​",
            "style": "IPY_MODEL_2b3b799095b64b82b78eb7e611a31381",
            "value": "Downloading (…)okenizer_config.json: 100%"
          }
        },
        "19c6e6cae56d4439bf3afd922354fd8c": {
          "model_module": "@jupyter-widgets/controls",
          "model_name": "FloatProgressModel",
          "model_module_version": "1.5.0",
          "state": {
            "_dom_classes": [],
            "_model_module": "@jupyter-widgets/controls",
            "_model_module_version": "1.5.0",
            "_model_name": "FloatProgressModel",
            "_view_count": null,
            "_view_module": "@jupyter-widgets/controls",
            "_view_module_version": "1.5.0",
            "_view_name": "ProgressView",
            "bar_style": "success",
            "description": "",
            "description_tooltip": null,
            "layout": "IPY_MODEL_e9ca051c8e094582a1968bc18e857e6b",
            "max": 28,
            "min": 0,
            "orientation": "horizontal",
            "style": "IPY_MODEL_f29766192dc040d4b7033020475c2041",
            "value": 28
          }
        },
        "c2fea0f33e244e1a8b135e77020e6ede": {
          "model_module": "@jupyter-widgets/controls",
          "model_name": "HTMLModel",
          "model_module_version": "1.5.0",
          "state": {
            "_dom_classes": [],
            "_model_module": "@jupyter-widgets/controls",
            "_model_module_version": "1.5.0",
            "_model_name": "HTMLModel",
            "_view_count": null,
            "_view_module": "@jupyter-widgets/controls",
            "_view_module_version": "1.5.0",
            "_view_name": "HTMLView",
            "description": "",
            "description_tooltip": null,
            "layout": "IPY_MODEL_ce364ef0b8cc44bb9d37986d80a9dd33",
            "placeholder": "​",
            "style": "IPY_MODEL_285fd00396b943b18173ba6009e88ccb",
            "value": " 28.0/28.0 [00:00&lt;00:00, 762B/s]"
          }
        },
        "a44a35cf440043c68e61995a633ce093": {
          "model_module": "@jupyter-widgets/base",
          "model_name": "LayoutModel",
          "model_module_version": "1.2.0",
          "state": {
            "_model_module": "@jupyter-widgets/base",
            "_model_module_version": "1.2.0",
            "_model_name": "LayoutModel",
            "_view_count": null,
            "_view_module": "@jupyter-widgets/base",
            "_view_module_version": "1.2.0",
            "_view_name": "LayoutView",
            "align_content": null,
            "align_items": null,
            "align_self": null,
            "border": null,
            "bottom": null,
            "display": null,
            "flex": null,
            "flex_flow": null,
            "grid_area": null,
            "grid_auto_columns": null,
            "grid_auto_flow": null,
            "grid_auto_rows": null,
            "grid_column": null,
            "grid_gap": null,
            "grid_row": null,
            "grid_template_areas": null,
            "grid_template_columns": null,
            "grid_template_rows": null,
            "height": null,
            "justify_content": null,
            "justify_items": null,
            "left": null,
            "margin": null,
            "max_height": null,
            "max_width": null,
            "min_height": null,
            "min_width": null,
            "object_fit": null,
            "object_position": null,
            "order": null,
            "overflow": null,
            "overflow_x": null,
            "overflow_y": null,
            "padding": null,
            "right": null,
            "top": null,
            "visibility": null,
            "width": null
          }
        },
        "0e12a32df00d4345973b4569314c7979": {
          "model_module": "@jupyter-widgets/base",
          "model_name": "LayoutModel",
          "model_module_version": "1.2.0",
          "state": {
            "_model_module": "@jupyter-widgets/base",
            "_model_module_version": "1.2.0",
            "_model_name": "LayoutModel",
            "_view_count": null,
            "_view_module": "@jupyter-widgets/base",
            "_view_module_version": "1.2.0",
            "_view_name": "LayoutView",
            "align_content": null,
            "align_items": null,
            "align_self": null,
            "border": null,
            "bottom": null,
            "display": null,
            "flex": null,
            "flex_flow": null,
            "grid_area": null,
            "grid_auto_columns": null,
            "grid_auto_flow": null,
            "grid_auto_rows": null,
            "grid_column": null,
            "grid_gap": null,
            "grid_row": null,
            "grid_template_areas": null,
            "grid_template_columns": null,
            "grid_template_rows": null,
            "height": null,
            "justify_content": null,
            "justify_items": null,
            "left": null,
            "margin": null,
            "max_height": null,
            "max_width": null,
            "min_height": null,
            "min_width": null,
            "object_fit": null,
            "object_position": null,
            "order": null,
            "overflow": null,
            "overflow_x": null,
            "overflow_y": null,
            "padding": null,
            "right": null,
            "top": null,
            "visibility": null,
            "width": null
          }
        },
        "2b3b799095b64b82b78eb7e611a31381": {
          "model_module": "@jupyter-widgets/controls",
          "model_name": "DescriptionStyleModel",
          "model_module_version": "1.5.0",
          "state": {
            "_model_module": "@jupyter-widgets/controls",
            "_model_module_version": "1.5.0",
            "_model_name": "DescriptionStyleModel",
            "_view_count": null,
            "_view_module": "@jupyter-widgets/base",
            "_view_module_version": "1.2.0",
            "_view_name": "StyleView",
            "description_width": ""
          }
        },
        "e9ca051c8e094582a1968bc18e857e6b": {
          "model_module": "@jupyter-widgets/base",
          "model_name": "LayoutModel",
          "model_module_version": "1.2.0",
          "state": {
            "_model_module": "@jupyter-widgets/base",
            "_model_module_version": "1.2.0",
            "_model_name": "LayoutModel",
            "_view_count": null,
            "_view_module": "@jupyter-widgets/base",
            "_view_module_version": "1.2.0",
            "_view_name": "LayoutView",
            "align_content": null,
            "align_items": null,
            "align_self": null,
            "border": null,
            "bottom": null,
            "display": null,
            "flex": null,
            "flex_flow": null,
            "grid_area": null,
            "grid_auto_columns": null,
            "grid_auto_flow": null,
            "grid_auto_rows": null,
            "grid_column": null,
            "grid_gap": null,
            "grid_row": null,
            "grid_template_areas": null,
            "grid_template_columns": null,
            "grid_template_rows": null,
            "height": null,
            "justify_content": null,
            "justify_items": null,
            "left": null,
            "margin": null,
            "max_height": null,
            "max_width": null,
            "min_height": null,
            "min_width": null,
            "object_fit": null,
            "object_position": null,
            "order": null,
            "overflow": null,
            "overflow_x": null,
            "overflow_y": null,
            "padding": null,
            "right": null,
            "top": null,
            "visibility": null,
            "width": null
          }
        },
        "f29766192dc040d4b7033020475c2041": {
          "model_module": "@jupyter-widgets/controls",
          "model_name": "ProgressStyleModel",
          "model_module_version": "1.5.0",
          "state": {
            "_model_module": "@jupyter-widgets/controls",
            "_model_module_version": "1.5.0",
            "_model_name": "ProgressStyleModel",
            "_view_count": null,
            "_view_module": "@jupyter-widgets/base",
            "_view_module_version": "1.2.0",
            "_view_name": "StyleView",
            "bar_color": null,
            "description_width": ""
          }
        },
        "ce364ef0b8cc44bb9d37986d80a9dd33": {
          "model_module": "@jupyter-widgets/base",
          "model_name": "LayoutModel",
          "model_module_version": "1.2.0",
          "state": {
            "_model_module": "@jupyter-widgets/base",
            "_model_module_version": "1.2.0",
            "_model_name": "LayoutModel",
            "_view_count": null,
            "_view_module": "@jupyter-widgets/base",
            "_view_module_version": "1.2.0",
            "_view_name": "LayoutView",
            "align_content": null,
            "align_items": null,
            "align_self": null,
            "border": null,
            "bottom": null,
            "display": null,
            "flex": null,
            "flex_flow": null,
            "grid_area": null,
            "grid_auto_columns": null,
            "grid_auto_flow": null,
            "grid_auto_rows": null,
            "grid_column": null,
            "grid_gap": null,
            "grid_row": null,
            "grid_template_areas": null,
            "grid_template_columns": null,
            "grid_template_rows": null,
            "height": null,
            "justify_content": null,
            "justify_items": null,
            "left": null,
            "margin": null,
            "max_height": null,
            "max_width": null,
            "min_height": null,
            "min_width": null,
            "object_fit": null,
            "object_position": null,
            "order": null,
            "overflow": null,
            "overflow_x": null,
            "overflow_y": null,
            "padding": null,
            "right": null,
            "top": null,
            "visibility": null,
            "width": null
          }
        },
        "285fd00396b943b18173ba6009e88ccb": {
          "model_module": "@jupyter-widgets/controls",
          "model_name": "DescriptionStyleModel",
          "model_module_version": "1.5.0",
          "state": {
            "_model_module": "@jupyter-widgets/controls",
            "_model_module_version": "1.5.0",
            "_model_name": "DescriptionStyleModel",
            "_view_count": null,
            "_view_module": "@jupyter-widgets/base",
            "_view_module_version": "1.2.0",
            "_view_name": "StyleView",
            "description_width": ""
          }
        },
        "67eced380757432da61f68b8ccc1b369": {
          "model_module": "@jupyter-widgets/controls",
          "model_name": "HBoxModel",
          "model_module_version": "1.5.0",
          "state": {
            "_dom_classes": [],
            "_model_module": "@jupyter-widgets/controls",
            "_model_module_version": "1.5.0",
            "_model_name": "HBoxModel",
            "_view_count": null,
            "_view_module": "@jupyter-widgets/controls",
            "_view_module_version": "1.5.0",
            "_view_name": "HBoxView",
            "box_style": "",
            "children": [
              "IPY_MODEL_39741f8aac5b4c58b33dda2769d473b5",
              "IPY_MODEL_e7ce4253710a4697af8d64a0f906c9d1",
              "IPY_MODEL_bd9287b298184b49820ee14fdbbc4234"
            ],
            "layout": "IPY_MODEL_dc59ca267171444d9de4df9281cc347e"
          }
        },
        "39741f8aac5b4c58b33dda2769d473b5": {
          "model_module": "@jupyter-widgets/controls",
          "model_name": "HTMLModel",
          "model_module_version": "1.5.0",
          "state": {
            "_dom_classes": [],
            "_model_module": "@jupyter-widgets/controls",
            "_model_module_version": "1.5.0",
            "_model_name": "HTMLModel",
            "_view_count": null,
            "_view_module": "@jupyter-widgets/controls",
            "_view_module_version": "1.5.0",
            "_view_name": "HTMLView",
            "description": "",
            "description_tooltip": null,
            "layout": "IPY_MODEL_c545880f97674ca6a1c321a3221b81dc",
            "placeholder": "​",
            "style": "IPY_MODEL_8bb51908b9d24bbfbfbfe399dbcdd943",
            "value": "Downloading (…)lve/main/config.json: 100%"
          }
        },
        "e7ce4253710a4697af8d64a0f906c9d1": {
          "model_module": "@jupyter-widgets/controls",
          "model_name": "FloatProgressModel",
          "model_module_version": "1.5.0",
          "state": {
            "_dom_classes": [],
            "_model_module": "@jupyter-widgets/controls",
            "_model_module_version": "1.5.0",
            "_model_name": "FloatProgressModel",
            "_view_count": null,
            "_view_module": "@jupyter-widgets/controls",
            "_view_module_version": "1.5.0",
            "_view_name": "ProgressView",
            "bar_style": "success",
            "description": "",
            "description_tooltip": null,
            "layout": "IPY_MODEL_2f595e13213c4806b8bbdd11b90693ca",
            "max": 483,
            "min": 0,
            "orientation": "horizontal",
            "style": "IPY_MODEL_61bf0ae87404434fa7eb712b6f8ad056",
            "value": 483
          }
        },
        "bd9287b298184b49820ee14fdbbc4234": {
          "model_module": "@jupyter-widgets/controls",
          "model_name": "HTMLModel",
          "model_module_version": "1.5.0",
          "state": {
            "_dom_classes": [],
            "_model_module": "@jupyter-widgets/controls",
            "_model_module_version": "1.5.0",
            "_model_name": "HTMLModel",
            "_view_count": null,
            "_view_module": "@jupyter-widgets/controls",
            "_view_module_version": "1.5.0",
            "_view_name": "HTMLView",
            "description": "",
            "description_tooltip": null,
            "layout": "IPY_MODEL_9f2d5a37e4614be0880feaf11feea3f6",
            "placeholder": "​",
            "style": "IPY_MODEL_47c168bda58d4df1bb4fba9925967740",
            "value": " 483/483 [00:00&lt;00:00, 17.3kB/s]"
          }
        },
        "dc59ca267171444d9de4df9281cc347e": {
          "model_module": "@jupyter-widgets/base",
          "model_name": "LayoutModel",
          "model_module_version": "1.2.0",
          "state": {
            "_model_module": "@jupyter-widgets/base",
            "_model_module_version": "1.2.0",
            "_model_name": "LayoutModel",
            "_view_count": null,
            "_view_module": "@jupyter-widgets/base",
            "_view_module_version": "1.2.0",
            "_view_name": "LayoutView",
            "align_content": null,
            "align_items": null,
            "align_self": null,
            "border": null,
            "bottom": null,
            "display": null,
            "flex": null,
            "flex_flow": null,
            "grid_area": null,
            "grid_auto_columns": null,
            "grid_auto_flow": null,
            "grid_auto_rows": null,
            "grid_column": null,
            "grid_gap": null,
            "grid_row": null,
            "grid_template_areas": null,
            "grid_template_columns": null,
            "grid_template_rows": null,
            "height": null,
            "justify_content": null,
            "justify_items": null,
            "left": null,
            "margin": null,
            "max_height": null,
            "max_width": null,
            "min_height": null,
            "min_width": null,
            "object_fit": null,
            "object_position": null,
            "order": null,
            "overflow": null,
            "overflow_x": null,
            "overflow_y": null,
            "padding": null,
            "right": null,
            "top": null,
            "visibility": null,
            "width": null
          }
        },
        "c545880f97674ca6a1c321a3221b81dc": {
          "model_module": "@jupyter-widgets/base",
          "model_name": "LayoutModel",
          "model_module_version": "1.2.0",
          "state": {
            "_model_module": "@jupyter-widgets/base",
            "_model_module_version": "1.2.0",
            "_model_name": "LayoutModel",
            "_view_count": null,
            "_view_module": "@jupyter-widgets/base",
            "_view_module_version": "1.2.0",
            "_view_name": "LayoutView",
            "align_content": null,
            "align_items": null,
            "align_self": null,
            "border": null,
            "bottom": null,
            "display": null,
            "flex": null,
            "flex_flow": null,
            "grid_area": null,
            "grid_auto_columns": null,
            "grid_auto_flow": null,
            "grid_auto_rows": null,
            "grid_column": null,
            "grid_gap": null,
            "grid_row": null,
            "grid_template_areas": null,
            "grid_template_columns": null,
            "grid_template_rows": null,
            "height": null,
            "justify_content": null,
            "justify_items": null,
            "left": null,
            "margin": null,
            "max_height": null,
            "max_width": null,
            "min_height": null,
            "min_width": null,
            "object_fit": null,
            "object_position": null,
            "order": null,
            "overflow": null,
            "overflow_x": null,
            "overflow_y": null,
            "padding": null,
            "right": null,
            "top": null,
            "visibility": null,
            "width": null
          }
        },
        "8bb51908b9d24bbfbfbfe399dbcdd943": {
          "model_module": "@jupyter-widgets/controls",
          "model_name": "DescriptionStyleModel",
          "model_module_version": "1.5.0",
          "state": {
            "_model_module": "@jupyter-widgets/controls",
            "_model_module_version": "1.5.0",
            "_model_name": "DescriptionStyleModel",
            "_view_count": null,
            "_view_module": "@jupyter-widgets/base",
            "_view_module_version": "1.2.0",
            "_view_name": "StyleView",
            "description_width": ""
          }
        },
        "2f595e13213c4806b8bbdd11b90693ca": {
          "model_module": "@jupyter-widgets/base",
          "model_name": "LayoutModel",
          "model_module_version": "1.2.0",
          "state": {
            "_model_module": "@jupyter-widgets/base",
            "_model_module_version": "1.2.0",
            "_model_name": "LayoutModel",
            "_view_count": null,
            "_view_module": "@jupyter-widgets/base",
            "_view_module_version": "1.2.0",
            "_view_name": "LayoutView",
            "align_content": null,
            "align_items": null,
            "align_self": null,
            "border": null,
            "bottom": null,
            "display": null,
            "flex": null,
            "flex_flow": null,
            "grid_area": null,
            "grid_auto_columns": null,
            "grid_auto_flow": null,
            "grid_auto_rows": null,
            "grid_column": null,
            "grid_gap": null,
            "grid_row": null,
            "grid_template_areas": null,
            "grid_template_columns": null,
            "grid_template_rows": null,
            "height": null,
            "justify_content": null,
            "justify_items": null,
            "left": null,
            "margin": null,
            "max_height": null,
            "max_width": null,
            "min_height": null,
            "min_width": null,
            "object_fit": null,
            "object_position": null,
            "order": null,
            "overflow": null,
            "overflow_x": null,
            "overflow_y": null,
            "padding": null,
            "right": null,
            "top": null,
            "visibility": null,
            "width": null
          }
        },
        "61bf0ae87404434fa7eb712b6f8ad056": {
          "model_module": "@jupyter-widgets/controls",
          "model_name": "ProgressStyleModel",
          "model_module_version": "1.5.0",
          "state": {
            "_model_module": "@jupyter-widgets/controls",
            "_model_module_version": "1.5.0",
            "_model_name": "ProgressStyleModel",
            "_view_count": null,
            "_view_module": "@jupyter-widgets/base",
            "_view_module_version": "1.2.0",
            "_view_name": "StyleView",
            "bar_color": null,
            "description_width": ""
          }
        },
        "9f2d5a37e4614be0880feaf11feea3f6": {
          "model_module": "@jupyter-widgets/base",
          "model_name": "LayoutModel",
          "model_module_version": "1.2.0",
          "state": {
            "_model_module": "@jupyter-widgets/base",
            "_model_module_version": "1.2.0",
            "_model_name": "LayoutModel",
            "_view_count": null,
            "_view_module": "@jupyter-widgets/base",
            "_view_module_version": "1.2.0",
            "_view_name": "LayoutView",
            "align_content": null,
            "align_items": null,
            "align_self": null,
            "border": null,
            "bottom": null,
            "display": null,
            "flex": null,
            "flex_flow": null,
            "grid_area": null,
            "grid_auto_columns": null,
            "grid_auto_flow": null,
            "grid_auto_rows": null,
            "grid_column": null,
            "grid_gap": null,
            "grid_row": null,
            "grid_template_areas": null,
            "grid_template_columns": null,
            "grid_template_rows": null,
            "height": null,
            "justify_content": null,
            "justify_items": null,
            "left": null,
            "margin": null,
            "max_height": null,
            "max_width": null,
            "min_height": null,
            "min_width": null,
            "object_fit": null,
            "object_position": null,
            "order": null,
            "overflow": null,
            "overflow_x": null,
            "overflow_y": null,
            "padding": null,
            "right": null,
            "top": null,
            "visibility": null,
            "width": null
          }
        },
        "47c168bda58d4df1bb4fba9925967740": {
          "model_module": "@jupyter-widgets/controls",
          "model_name": "DescriptionStyleModel",
          "model_module_version": "1.5.0",
          "state": {
            "_model_module": "@jupyter-widgets/controls",
            "_model_module_version": "1.5.0",
            "_model_name": "DescriptionStyleModel",
            "_view_count": null,
            "_view_module": "@jupyter-widgets/base",
            "_view_module_version": "1.2.0",
            "_view_name": "StyleView",
            "description_width": ""
          }
        },
        "90bdb90d79494c58858d5b183cca5fcb": {
          "model_module": "@jupyter-widgets/controls",
          "model_name": "HBoxModel",
          "model_module_version": "1.5.0",
          "state": {
            "_dom_classes": [],
            "_model_module": "@jupyter-widgets/controls",
            "_model_module_version": "1.5.0",
            "_model_name": "HBoxModel",
            "_view_count": null,
            "_view_module": "@jupyter-widgets/controls",
            "_view_module_version": "1.5.0",
            "_view_name": "HBoxView",
            "box_style": "",
            "children": [
              "IPY_MODEL_cde69116bf444affa2a45d368065212d",
              "IPY_MODEL_ee83b4ffed3a4d999c4d571464545e51",
              "IPY_MODEL_40f038e9f3e64878a4f29de9b2ea0725"
            ],
            "layout": "IPY_MODEL_7d064c4092f54b7e8e87d4c77fb1a283"
          }
        },
        "cde69116bf444affa2a45d368065212d": {
          "model_module": "@jupyter-widgets/controls",
          "model_name": "HTMLModel",
          "model_module_version": "1.5.0",
          "state": {
            "_dom_classes": [],
            "_model_module": "@jupyter-widgets/controls",
            "_model_module_version": "1.5.0",
            "_model_name": "HTMLModel",
            "_view_count": null,
            "_view_module": "@jupyter-widgets/controls",
            "_view_module_version": "1.5.0",
            "_view_name": "HTMLView",
            "description": "",
            "description_tooltip": null,
            "layout": "IPY_MODEL_8613cbf654eb4f25948d0d61ba855e08",
            "placeholder": "​",
            "style": "IPY_MODEL_60856da48e8944e4b010257ce1e4e770",
            "value": "Downloading (…)&quot;pytorch_model.bin&quot;;: 100%"
          }
        },
        "ee83b4ffed3a4d999c4d571464545e51": {
          "model_module": "@jupyter-widgets/controls",
          "model_name": "FloatProgressModel",
          "model_module_version": "1.5.0",
          "state": {
            "_dom_classes": [],
            "_model_module": "@jupyter-widgets/controls",
            "_model_module_version": "1.5.0",
            "_model_name": "FloatProgressModel",
            "_view_count": null,
            "_view_module": "@jupyter-widgets/controls",
            "_view_module_version": "1.5.0",
            "_view_name": "ProgressView",
            "bar_style": "success",
            "description": "",
            "description_tooltip": null,
            "layout": "IPY_MODEL_fe8e333b89994d948af2674036b48118",
            "max": 267967963,
            "min": 0,
            "orientation": "horizontal",
            "style": "IPY_MODEL_5d0fb2cb214e4ff389c17d954e3fbaa5",
            "value": 267967963
          }
        },
        "40f038e9f3e64878a4f29de9b2ea0725": {
          "model_module": "@jupyter-widgets/controls",
          "model_name": "HTMLModel",
          "model_module_version": "1.5.0",
          "state": {
            "_dom_classes": [],
            "_model_module": "@jupyter-widgets/controls",
            "_model_module_version": "1.5.0",
            "_model_name": "HTMLModel",
            "_view_count": null,
            "_view_module": "@jupyter-widgets/controls",
            "_view_module_version": "1.5.0",
            "_view_name": "HTMLView",
            "description": "",
            "description_tooltip": null,
            "layout": "IPY_MODEL_f1ca672159774af0b5f6356aad5295a8",
            "placeholder": "​",
            "style": "IPY_MODEL_f71e2379f83b4ea38055bcd2efc1c828",
            "value": " 268M/268M [00:03&lt;00:00, 162MB/s]"
          }
        },
        "7d064c4092f54b7e8e87d4c77fb1a283": {
          "model_module": "@jupyter-widgets/base",
          "model_name": "LayoutModel",
          "model_module_version": "1.2.0",
          "state": {
            "_model_module": "@jupyter-widgets/base",
            "_model_module_version": "1.2.0",
            "_model_name": "LayoutModel",
            "_view_count": null,
            "_view_module": "@jupyter-widgets/base",
            "_view_module_version": "1.2.0",
            "_view_name": "LayoutView",
            "align_content": null,
            "align_items": null,
            "align_self": null,
            "border": null,
            "bottom": null,
            "display": null,
            "flex": null,
            "flex_flow": null,
            "grid_area": null,
            "grid_auto_columns": null,
            "grid_auto_flow": null,
            "grid_auto_rows": null,
            "grid_column": null,
            "grid_gap": null,
            "grid_row": null,
            "grid_template_areas": null,
            "grid_template_columns": null,
            "grid_template_rows": null,
            "height": null,
            "justify_content": null,
            "justify_items": null,
            "left": null,
            "margin": null,
            "max_height": null,
            "max_width": null,
            "min_height": null,
            "min_width": null,
            "object_fit": null,
            "object_position": null,
            "order": null,
            "overflow": null,
            "overflow_x": null,
            "overflow_y": null,
            "padding": null,
            "right": null,
            "top": null,
            "visibility": null,
            "width": null
          }
        },
        "8613cbf654eb4f25948d0d61ba855e08": {
          "model_module": "@jupyter-widgets/base",
          "model_name": "LayoutModel",
          "model_module_version": "1.2.0",
          "state": {
            "_model_module": "@jupyter-widgets/base",
            "_model_module_version": "1.2.0",
            "_model_name": "LayoutModel",
            "_view_count": null,
            "_view_module": "@jupyter-widgets/base",
            "_view_module_version": "1.2.0",
            "_view_name": "LayoutView",
            "align_content": null,
            "align_items": null,
            "align_self": null,
            "border": null,
            "bottom": null,
            "display": null,
            "flex": null,
            "flex_flow": null,
            "grid_area": null,
            "grid_auto_columns": null,
            "grid_auto_flow": null,
            "grid_auto_rows": null,
            "grid_column": null,
            "grid_gap": null,
            "grid_row": null,
            "grid_template_areas": null,
            "grid_template_columns": null,
            "grid_template_rows": null,
            "height": null,
            "justify_content": null,
            "justify_items": null,
            "left": null,
            "margin": null,
            "max_height": null,
            "max_width": null,
            "min_height": null,
            "min_width": null,
            "object_fit": null,
            "object_position": null,
            "order": null,
            "overflow": null,
            "overflow_x": null,
            "overflow_y": null,
            "padding": null,
            "right": null,
            "top": null,
            "visibility": null,
            "width": null
          }
        },
        "60856da48e8944e4b010257ce1e4e770": {
          "model_module": "@jupyter-widgets/controls",
          "model_name": "DescriptionStyleModel",
          "model_module_version": "1.5.0",
          "state": {
            "_model_module": "@jupyter-widgets/controls",
            "_model_module_version": "1.5.0",
            "_model_name": "DescriptionStyleModel",
            "_view_count": null,
            "_view_module": "@jupyter-widgets/base",
            "_view_module_version": "1.2.0",
            "_view_name": "StyleView",
            "description_width": ""
          }
        },
        "fe8e333b89994d948af2674036b48118": {
          "model_module": "@jupyter-widgets/base",
          "model_name": "LayoutModel",
          "model_module_version": "1.2.0",
          "state": {
            "_model_module": "@jupyter-widgets/base",
            "_model_module_version": "1.2.0",
            "_model_name": "LayoutModel",
            "_view_count": null,
            "_view_module": "@jupyter-widgets/base",
            "_view_module_version": "1.2.0",
            "_view_name": "LayoutView",
            "align_content": null,
            "align_items": null,
            "align_self": null,
            "border": null,
            "bottom": null,
            "display": null,
            "flex": null,
            "flex_flow": null,
            "grid_area": null,
            "grid_auto_columns": null,
            "grid_auto_flow": null,
            "grid_auto_rows": null,
            "grid_column": null,
            "grid_gap": null,
            "grid_row": null,
            "grid_template_areas": null,
            "grid_template_columns": null,
            "grid_template_rows": null,
            "height": null,
            "justify_content": null,
            "justify_items": null,
            "left": null,
            "margin": null,
            "max_height": null,
            "max_width": null,
            "min_height": null,
            "min_width": null,
            "object_fit": null,
            "object_position": null,
            "order": null,
            "overflow": null,
            "overflow_x": null,
            "overflow_y": null,
            "padding": null,
            "right": null,
            "top": null,
            "visibility": null,
            "width": null
          }
        },
        "5d0fb2cb214e4ff389c17d954e3fbaa5": {
          "model_module": "@jupyter-widgets/controls",
          "model_name": "ProgressStyleModel",
          "model_module_version": "1.5.0",
          "state": {
            "_model_module": "@jupyter-widgets/controls",
            "_model_module_version": "1.5.0",
            "_model_name": "ProgressStyleModel",
            "_view_count": null,
            "_view_module": "@jupyter-widgets/base",
            "_view_module_version": "1.2.0",
            "_view_name": "StyleView",
            "bar_color": null,
            "description_width": ""
          }
        },
        "f1ca672159774af0b5f6356aad5295a8": {
          "model_module": "@jupyter-widgets/base",
          "model_name": "LayoutModel",
          "model_module_version": "1.2.0",
          "state": {
            "_model_module": "@jupyter-widgets/base",
            "_model_module_version": "1.2.0",
            "_model_name": "LayoutModel",
            "_view_count": null,
            "_view_module": "@jupyter-widgets/base",
            "_view_module_version": "1.2.0",
            "_view_name": "LayoutView",
            "align_content": null,
            "align_items": null,
            "align_self": null,
            "border": null,
            "bottom": null,
            "display": null,
            "flex": null,
            "flex_flow": null,
            "grid_area": null,
            "grid_auto_columns": null,
            "grid_auto_flow": null,
            "grid_auto_rows": null,
            "grid_column": null,
            "grid_gap": null,
            "grid_row": null,
            "grid_template_areas": null,
            "grid_template_columns": null,
            "grid_template_rows": null,
            "height": null,
            "justify_content": null,
            "justify_items": null,
            "left": null,
            "margin": null,
            "max_height": null,
            "max_width": null,
            "min_height": null,
            "min_width": null,
            "object_fit": null,
            "object_position": null,
            "order": null,
            "overflow": null,
            "overflow_x": null,
            "overflow_y": null,
            "padding": null,
            "right": null,
            "top": null,
            "visibility": null,
            "width": null
          }
        },
        "f71e2379f83b4ea38055bcd2efc1c828": {
          "model_module": "@jupyter-widgets/controls",
          "model_name": "DescriptionStyleModel",
          "model_module_version": "1.5.0",
          "state": {
            "_model_module": "@jupyter-widgets/controls",
            "_model_module_version": "1.5.0",
            "_model_name": "DescriptionStyleModel",
            "_view_count": null,
            "_view_module": "@jupyter-widgets/base",
            "_view_module_version": "1.2.0",
            "_view_name": "StyleView",
            "description_width": ""
          }
        }
      }
    }
  },
  "nbformat": 4,
  "nbformat_minor": 0
}